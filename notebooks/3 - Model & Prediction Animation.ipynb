{
 "cells": [
  {
   "cell_type": "markdown",
   "metadata": {},
   "source": [
    "# Importing the Data csv File"
   ]
  },
  {
   "cell_type": "code",
   "execution_count": 1,
   "metadata": {
    "ExecuteTime": {
     "end_time": "2020-10-31T22:58:30.186379Z",
     "start_time": "2020-10-31T22:58:29.631537Z"
    }
   },
   "outputs": [],
   "source": [
    "import pandas as pd\n",
    "\n",
    "\n",
    "csv_path = \"../data/mech_state_labels.csv\"\n",
    "df = pd.read_csv(csv_path)"
   ]
  },
  {
   "cell_type": "code",
   "execution_count": 2,
   "metadata": {
    "ExecuteTime": {
     "end_time": "2020-10-31T22:58:30.207403Z",
     "start_time": "2020-10-31T22:58:30.188040Z"
    }
   },
   "outputs": [
    {
     "name": "stdout",
     "output_type": "stream",
     "text": [
      "60000\n"
     ]
    },
    {
     "data": {
      "text/html": [
       "<div>\n",
       "<style scoped>\n",
       "    .dataframe tbody tr th:only-of-type {\n",
       "        vertical-align: middle;\n",
       "    }\n",
       "\n",
       "    .dataframe tbody tr th {\n",
       "        vertical-align: top;\n",
       "    }\n",
       "\n",
       "    .dataframe thead th {\n",
       "        text-align: right;\n",
       "    }\n",
       "</style>\n",
       "<table border=\"1\" class=\"dataframe\">\n",
       "  <thead>\n",
       "    <tr style=\"text-align: right;\">\n",
       "      <th></th>\n",
       "      <th>Pressure_1</th>\n",
       "      <th>Pressure_2</th>\n",
       "      <th>input_state</th>\n",
       "      <th>feedback_state</th>\n",
       "      <th>labels</th>\n",
       "    </tr>\n",
       "  </thead>\n",
       "  <tbody>\n",
       "    <tr>\n",
       "      <th>0</th>\n",
       "      <td>46.967110</td>\n",
       "      <td>24.612312</td>\n",
       "      <td>1</td>\n",
       "      <td>1</td>\n",
       "      <td>0</td>\n",
       "    </tr>\n",
       "    <tr>\n",
       "      <th>1</th>\n",
       "      <td>46.940347</td>\n",
       "      <td>31.196085</td>\n",
       "      <td>1</td>\n",
       "      <td>1</td>\n",
       "      <td>0</td>\n",
       "    </tr>\n",
       "    <tr>\n",
       "      <th>2</th>\n",
       "      <td>53.553435</td>\n",
       "      <td>35.161072</td>\n",
       "      <td>1</td>\n",
       "      <td>1</td>\n",
       "      <td>0</td>\n",
       "    </tr>\n",
       "    <tr>\n",
       "      <th>3</th>\n",
       "      <td>71.088936</td>\n",
       "      <td>52.947956</td>\n",
       "      <td>1</td>\n",
       "      <td>1</td>\n",
       "      <td>0</td>\n",
       "    </tr>\n",
       "    <tr>\n",
       "      <th>4</th>\n",
       "      <td>65.643129</td>\n",
       "      <td>46.005938</td>\n",
       "      <td>1</td>\n",
       "      <td>1</td>\n",
       "      <td>0</td>\n",
       "    </tr>\n",
       "  </tbody>\n",
       "</table>\n",
       "</div>"
      ],
      "text/plain": [
       "   Pressure_1  Pressure_2  input_state  feedback_state  labels\n",
       "0   46.967110   24.612312            1               1       0\n",
       "1   46.940347   31.196085            1               1       0\n",
       "2   53.553435   35.161072            1               1       0\n",
       "3   71.088936   52.947956            1               1       0\n",
       "4   65.643129   46.005938            1               1       0"
      ]
     },
     "execution_count": 2,
     "metadata": {},
     "output_type": "execute_result"
    }
   ],
   "source": [
    "print(df.size)\n",
    "df.head()"
   ]
  },
  {
   "cell_type": "markdown",
   "metadata": {},
   "source": [
    "The data was generated in sequence of the labels and therefore is not shuffled or randomized. We'll first shuffle the dataframe."
   ]
  },
  {
   "cell_type": "code",
   "execution_count": 3,
   "metadata": {
    "ExecuteTime": {
     "end_time": "2020-10-31T22:58:30.215138Z",
     "start_time": "2020-10-31T22:58:30.209547Z"
    }
   },
   "outputs": [
    {
     "name": "stdout",
     "output_type": "stream",
     "text": [
      "(12000, 5)\n"
     ]
    }
   ],
   "source": [
    "df = df.sample(frac = 1)\n",
    "df.head(10)\n",
    "print(df.shape)"
   ]
  },
  {
   "cell_type": "markdown",
   "metadata": {
    "ExecuteTime": {
     "end_time": "2020-10-29T21:52:06.269739Z",
     "start_time": "2020-10-29T21:52:06.267491Z"
    }
   },
   "source": [
    "# Normalize Data\n",
    "\n",
    "Now we'll normalize the two pressure columns using sklearn."
   ]
  },
  {
   "cell_type": "code",
   "execution_count": 4,
   "metadata": {
    "ExecuteTime": {
     "end_time": "2020-10-31T22:58:30.931924Z",
     "start_time": "2020-10-31T22:58:30.216982Z"
    }
   },
   "outputs": [],
   "source": [
    "# Normalize Pressure 1\n",
    "\n",
    "from sklearn import preprocessing\n",
    "\n",
    "p1 = df[['Pressure_1']].values.astype(float)\n",
    "p2 = df[['Pressure_2']].values.astype(float)\n",
    "\n",
    "# Create a min max processor object\n",
    "min_max_scaler = preprocessing.MinMaxScaler()\n",
    "\n",
    "norm_p1 = min_max_scaler.fit_transform(p1)\n",
    "norm_p2 = min_max_scaler.fit_transform(p2)\n",
    "\n",
    "df['Pressure_1'] = norm_p1\n",
    "df['Pressure_2'] = norm_p2\n"
   ]
  },
  {
   "cell_type": "code",
   "execution_count": 5,
   "metadata": {
    "ExecuteTime": {
     "end_time": "2020-10-31T22:58:30.942431Z",
     "start_time": "2020-10-31T22:58:30.933467Z"
    }
   },
   "outputs": [
    {
     "data": {
      "text/html": [
       "<div>\n",
       "<style scoped>\n",
       "    .dataframe tbody tr th:only-of-type {\n",
       "        vertical-align: middle;\n",
       "    }\n",
       "\n",
       "    .dataframe tbody tr th {\n",
       "        vertical-align: top;\n",
       "    }\n",
       "\n",
       "    .dataframe thead th {\n",
       "        text-align: right;\n",
       "    }\n",
       "</style>\n",
       "<table border=\"1\" class=\"dataframe\">\n",
       "  <thead>\n",
       "    <tr style=\"text-align: right;\">\n",
       "      <th></th>\n",
       "      <th>Pressure_1</th>\n",
       "      <th>Pressure_2</th>\n",
       "      <th>input_state</th>\n",
       "      <th>feedback_state</th>\n",
       "      <th>labels</th>\n",
       "    </tr>\n",
       "  </thead>\n",
       "  <tbody>\n",
       "    <tr>\n",
       "      <th>8788</th>\n",
       "      <td>0.936045</td>\n",
       "      <td>0.677060</td>\n",
       "      <td>0</td>\n",
       "      <td>1</td>\n",
       "      <td>4</td>\n",
       "    </tr>\n",
       "    <tr>\n",
       "      <th>6946</th>\n",
       "      <td>0.213786</td>\n",
       "      <td>0.756718</td>\n",
       "      <td>0</td>\n",
       "      <td>0</td>\n",
       "      <td>3</td>\n",
       "    </tr>\n",
       "    <tr>\n",
       "      <th>1886</th>\n",
       "      <td>0.849886</td>\n",
       "      <td>0.673203</td>\n",
       "      <td>1</td>\n",
       "      <td>1</td>\n",
       "      <td>0</td>\n",
       "    </tr>\n",
       "    <tr>\n",
       "      <th>8955</th>\n",
       "      <td>0.665125</td>\n",
       "      <td>0.525781</td>\n",
       "      <td>0</td>\n",
       "      <td>1</td>\n",
       "      <td>4</td>\n",
       "    </tr>\n",
       "    <tr>\n",
       "      <th>10119</th>\n",
       "      <td>0.761465</td>\n",
       "      <td>0.600131</td>\n",
       "      <td>1</td>\n",
       "      <td>0</td>\n",
       "      <td>5</td>\n",
       "    </tr>\n",
       "    <tr>\n",
       "      <th>3798</th>\n",
       "      <td>0.545040</td>\n",
       "      <td>0.000000</td>\n",
       "      <td>0</td>\n",
       "      <td>0</td>\n",
       "      <td>1</td>\n",
       "    </tr>\n",
       "    <tr>\n",
       "      <th>8759</th>\n",
       "      <td>0.724889</td>\n",
       "      <td>0.555494</td>\n",
       "      <td>0</td>\n",
       "      <td>1</td>\n",
       "      <td>4</td>\n",
       "    </tr>\n",
       "    <tr>\n",
       "      <th>1906</th>\n",
       "      <td>0.799528</td>\n",
       "      <td>0.586400</td>\n",
       "      <td>1</td>\n",
       "      <td>1</td>\n",
       "      <td>0</td>\n",
       "    </tr>\n",
       "    <tr>\n",
       "      <th>10964</th>\n",
       "      <td>0.822359</td>\n",
       "      <td>0.595502</td>\n",
       "      <td>1</td>\n",
       "      <td>0</td>\n",
       "      <td>5</td>\n",
       "    </tr>\n",
       "    <tr>\n",
       "      <th>5157</th>\n",
       "      <td>0.547516</td>\n",
       "      <td>0.970324</td>\n",
       "      <td>1</td>\n",
       "      <td>1</td>\n",
       "      <td>2</td>\n",
       "    </tr>\n",
       "  </tbody>\n",
       "</table>\n",
       "</div>"
      ],
      "text/plain": [
       "       Pressure_1  Pressure_2  input_state  feedback_state  labels\n",
       "8788     0.936045    0.677060            0               1       4\n",
       "6946     0.213786    0.756718            0               0       3\n",
       "1886     0.849886    0.673203            1               1       0\n",
       "8955     0.665125    0.525781            0               1       4\n",
       "10119    0.761465    0.600131            1               0       5\n",
       "3798     0.545040    0.000000            0               0       1\n",
       "8759     0.724889    0.555494            0               1       4\n",
       "1906     0.799528    0.586400            1               1       0\n",
       "10964    0.822359    0.595502            1               0       5\n",
       "5157     0.547516    0.970324            1               1       2"
      ]
     },
     "execution_count": 5,
     "metadata": {},
     "output_type": "execute_result"
    }
   ],
   "source": [
    "df.head(10)"
   ]
  },
  {
   "cell_type": "code",
   "execution_count": 6,
   "metadata": {
    "ExecuteTime": {
     "end_time": "2020-10-31T22:58:30.948426Z",
     "start_time": "2020-10-31T22:58:30.943938Z"
    }
   },
   "outputs": [
    {
     "data": {
      "text/plain": [
       "Pressure_1        float64\n",
       "Pressure_2        float64\n",
       "input_state         int64\n",
       "feedback_state      int64\n",
       "labels              int64\n",
       "dtype: object"
      ]
     },
     "execution_count": 6,
     "metadata": {},
     "output_type": "execute_result"
    }
   ],
   "source": [
    "df.dtypes"
   ]
  },
  {
   "cell_type": "code",
   "execution_count": 7,
   "metadata": {
    "ExecuteTime": {
     "end_time": "2020-10-31T22:58:30.955245Z",
     "start_time": "2020-10-31T22:58:30.950539Z"
    }
   },
   "outputs": [],
   "source": [
    "# Cast states as floats\n",
    "\n",
    "df['input_state'] = df['input_state'].astype(float)\n",
    "df['feedback_state'] = df['feedback_state'].astype(float)"
   ]
  },
  {
   "cell_type": "code",
   "execution_count": 8,
   "metadata": {
    "ExecuteTime": {
     "end_time": "2020-10-31T22:58:30.968094Z",
     "start_time": "2020-10-31T22:58:30.957885Z"
    }
   },
   "outputs": [
    {
     "data": {
      "text/html": [
       "<div>\n",
       "<style scoped>\n",
       "    .dataframe tbody tr th:only-of-type {\n",
       "        vertical-align: middle;\n",
       "    }\n",
       "\n",
       "    .dataframe tbody tr th {\n",
       "        vertical-align: top;\n",
       "    }\n",
       "\n",
       "    .dataframe thead th {\n",
       "        text-align: right;\n",
       "    }\n",
       "</style>\n",
       "<table border=\"1\" class=\"dataframe\">\n",
       "  <thead>\n",
       "    <tr style=\"text-align: right;\">\n",
       "      <th></th>\n",
       "      <th>Pressure_1</th>\n",
       "      <th>Pressure_2</th>\n",
       "      <th>input_state</th>\n",
       "      <th>feedback_state</th>\n",
       "      <th>labels</th>\n",
       "    </tr>\n",
       "  </thead>\n",
       "  <tbody>\n",
       "    <tr>\n",
       "      <th>8788</th>\n",
       "      <td>0.936045</td>\n",
       "      <td>0.677060</td>\n",
       "      <td>0.0</td>\n",
       "      <td>1.0</td>\n",
       "      <td>4</td>\n",
       "    </tr>\n",
       "    <tr>\n",
       "      <th>6946</th>\n",
       "      <td>0.213786</td>\n",
       "      <td>0.756718</td>\n",
       "      <td>0.0</td>\n",
       "      <td>0.0</td>\n",
       "      <td>3</td>\n",
       "    </tr>\n",
       "    <tr>\n",
       "      <th>1886</th>\n",
       "      <td>0.849886</td>\n",
       "      <td>0.673203</td>\n",
       "      <td>1.0</td>\n",
       "      <td>1.0</td>\n",
       "      <td>0</td>\n",
       "    </tr>\n",
       "    <tr>\n",
       "      <th>8955</th>\n",
       "      <td>0.665125</td>\n",
       "      <td>0.525781</td>\n",
       "      <td>0.0</td>\n",
       "      <td>1.0</td>\n",
       "      <td>4</td>\n",
       "    </tr>\n",
       "    <tr>\n",
       "      <th>10119</th>\n",
       "      <td>0.761465</td>\n",
       "      <td>0.600131</td>\n",
       "      <td>1.0</td>\n",
       "      <td>0.0</td>\n",
       "      <td>5</td>\n",
       "    </tr>\n",
       "    <tr>\n",
       "      <th>3798</th>\n",
       "      <td>0.545040</td>\n",
       "      <td>0.000000</td>\n",
       "      <td>0.0</td>\n",
       "      <td>0.0</td>\n",
       "      <td>1</td>\n",
       "    </tr>\n",
       "    <tr>\n",
       "      <th>8759</th>\n",
       "      <td>0.724889</td>\n",
       "      <td>0.555494</td>\n",
       "      <td>0.0</td>\n",
       "      <td>1.0</td>\n",
       "      <td>4</td>\n",
       "    </tr>\n",
       "    <tr>\n",
       "      <th>1906</th>\n",
       "      <td>0.799528</td>\n",
       "      <td>0.586400</td>\n",
       "      <td>1.0</td>\n",
       "      <td>1.0</td>\n",
       "      <td>0</td>\n",
       "    </tr>\n",
       "    <tr>\n",
       "      <th>10964</th>\n",
       "      <td>0.822359</td>\n",
       "      <td>0.595502</td>\n",
       "      <td>1.0</td>\n",
       "      <td>0.0</td>\n",
       "      <td>5</td>\n",
       "    </tr>\n",
       "    <tr>\n",
       "      <th>5157</th>\n",
       "      <td>0.547516</td>\n",
       "      <td>0.970324</td>\n",
       "      <td>1.0</td>\n",
       "      <td>1.0</td>\n",
       "      <td>2</td>\n",
       "    </tr>\n",
       "  </tbody>\n",
       "</table>\n",
       "</div>"
      ],
      "text/plain": [
       "       Pressure_1  Pressure_2  input_state  feedback_state  labels\n",
       "8788     0.936045    0.677060          0.0             1.0       4\n",
       "6946     0.213786    0.756718          0.0             0.0       3\n",
       "1886     0.849886    0.673203          1.0             1.0       0\n",
       "8955     0.665125    0.525781          0.0             1.0       4\n",
       "10119    0.761465    0.600131          1.0             0.0       5\n",
       "3798     0.545040    0.000000          0.0             0.0       1\n",
       "8759     0.724889    0.555494          0.0             1.0       4\n",
       "1906     0.799528    0.586400          1.0             1.0       0\n",
       "10964    0.822359    0.595502          1.0             0.0       5\n",
       "5157     0.547516    0.970324          1.0             1.0       2"
      ]
     },
     "execution_count": 8,
     "metadata": {},
     "output_type": "execute_result"
    }
   ],
   "source": [
    "df.head(10)"
   ]
  },
  {
   "cell_type": "code",
   "execution_count": 9,
   "metadata": {
    "ExecuteTime": {
     "end_time": "2020-10-31T22:58:30.976956Z",
     "start_time": "2020-10-31T22:58:30.971185Z"
    }
   },
   "outputs": [
    {
     "data": {
      "text/plain": [
       "Pressure_1        float64\n",
       "Pressure_2        float64\n",
       "input_state       float64\n",
       "feedback_state    float64\n",
       "labels              int64\n",
       "dtype: object"
      ]
     },
     "execution_count": 9,
     "metadata": {},
     "output_type": "execute_result"
    }
   ],
   "source": [
    "df.dtypes"
   ]
  },
  {
   "cell_type": "markdown",
   "metadata": {},
   "source": [
    "# One Shot Encoding"
   ]
  },
  {
   "cell_type": "code",
   "execution_count": 10,
   "metadata": {
    "ExecuteTime": {
     "end_time": "2020-10-31T22:58:33.385241Z",
     "start_time": "2020-10-31T22:58:30.978693Z"
    }
   },
   "outputs": [
    {
     "name": "stdout",
     "output_type": "stream",
     "text": [
      "12000\n",
      "[4 3 0 5 1 2]\n"
     ]
    }
   ],
   "source": [
    "import tensorflow as tf\n",
    "\n",
    "indices = len(df['labels'])\n",
    "depth = pd.Series(df['labels'].values).unique()\n",
    "print(indices)\n",
    "print(depth)\n"
   ]
  },
  {
   "cell_type": "code",
   "execution_count": 11,
   "metadata": {
    "ExecuteTime": {
     "end_time": "2020-10-31T22:58:33.407285Z",
     "start_time": "2020-10-31T22:58:33.391953Z"
    }
   },
   "outputs": [],
   "source": [
    "target_df = pd.get_dummies(df['labels'].values)\n",
    "\n",
    "#target = preprocessing.LabelBinarizer()\n",
    "#target.fit(depth)\n",
    "#target.classes_"
   ]
  },
  {
   "cell_type": "code",
   "execution_count": 12,
   "metadata": {
    "ExecuteTime": {
     "end_time": "2020-10-31T22:58:33.416820Z",
     "start_time": "2020-10-31T22:58:33.412313Z"
    }
   },
   "outputs": [],
   "source": [
    "#target.transform(df['labels'])"
   ]
  },
  {
   "cell_type": "code",
   "execution_count": 13,
   "metadata": {
    "ExecuteTime": {
     "end_time": "2020-10-31T22:58:33.423696Z",
     "start_time": "2020-10-31T22:58:33.420198Z"
    }
   },
   "outputs": [],
   "source": [
    "#df['labels'] = target.transform(df['labels'])"
   ]
  },
  {
   "cell_type": "code",
   "execution_count": 14,
   "metadata": {
    "ExecuteTime": {
     "end_time": "2020-10-31T22:58:33.445506Z",
     "start_time": "2020-10-31T22:58:33.426919Z"
    }
   },
   "outputs": [
    {
     "data": {
      "text/html": [
       "<div>\n",
       "<style scoped>\n",
       "    .dataframe tbody tr th:only-of-type {\n",
       "        vertical-align: middle;\n",
       "    }\n",
       "\n",
       "    .dataframe tbody tr th {\n",
       "        vertical-align: top;\n",
       "    }\n",
       "\n",
       "    .dataframe thead th {\n",
       "        text-align: right;\n",
       "    }\n",
       "</style>\n",
       "<table border=\"1\" class=\"dataframe\">\n",
       "  <thead>\n",
       "    <tr style=\"text-align: right;\">\n",
       "      <th></th>\n",
       "      <th>Pressure_1</th>\n",
       "      <th>Pressure_2</th>\n",
       "      <th>input_state</th>\n",
       "      <th>feedback_state</th>\n",
       "      <th>labels</th>\n",
       "    </tr>\n",
       "  </thead>\n",
       "  <tbody>\n",
       "    <tr>\n",
       "      <th>8788</th>\n",
       "      <td>0.936045</td>\n",
       "      <td>0.677060</td>\n",
       "      <td>0.0</td>\n",
       "      <td>1.0</td>\n",
       "      <td>4</td>\n",
       "    </tr>\n",
       "    <tr>\n",
       "      <th>6946</th>\n",
       "      <td>0.213786</td>\n",
       "      <td>0.756718</td>\n",
       "      <td>0.0</td>\n",
       "      <td>0.0</td>\n",
       "      <td>3</td>\n",
       "    </tr>\n",
       "    <tr>\n",
       "      <th>1886</th>\n",
       "      <td>0.849886</td>\n",
       "      <td>0.673203</td>\n",
       "      <td>1.0</td>\n",
       "      <td>1.0</td>\n",
       "      <td>0</td>\n",
       "    </tr>\n",
       "    <tr>\n",
       "      <th>8955</th>\n",
       "      <td>0.665125</td>\n",
       "      <td>0.525781</td>\n",
       "      <td>0.0</td>\n",
       "      <td>1.0</td>\n",
       "      <td>4</td>\n",
       "    </tr>\n",
       "    <tr>\n",
       "      <th>10119</th>\n",
       "      <td>0.761465</td>\n",
       "      <td>0.600131</td>\n",
       "      <td>1.0</td>\n",
       "      <td>0.0</td>\n",
       "      <td>5</td>\n",
       "    </tr>\n",
       "    <tr>\n",
       "      <th>3798</th>\n",
       "      <td>0.545040</td>\n",
       "      <td>0.000000</td>\n",
       "      <td>0.0</td>\n",
       "      <td>0.0</td>\n",
       "      <td>1</td>\n",
       "    </tr>\n",
       "    <tr>\n",
       "      <th>8759</th>\n",
       "      <td>0.724889</td>\n",
       "      <td>0.555494</td>\n",
       "      <td>0.0</td>\n",
       "      <td>1.0</td>\n",
       "      <td>4</td>\n",
       "    </tr>\n",
       "    <tr>\n",
       "      <th>1906</th>\n",
       "      <td>0.799528</td>\n",
       "      <td>0.586400</td>\n",
       "      <td>1.0</td>\n",
       "      <td>1.0</td>\n",
       "      <td>0</td>\n",
       "    </tr>\n",
       "    <tr>\n",
       "      <th>10964</th>\n",
       "      <td>0.822359</td>\n",
       "      <td>0.595502</td>\n",
       "      <td>1.0</td>\n",
       "      <td>0.0</td>\n",
       "      <td>5</td>\n",
       "    </tr>\n",
       "    <tr>\n",
       "      <th>5157</th>\n",
       "      <td>0.547516</td>\n",
       "      <td>0.970324</td>\n",
       "      <td>1.0</td>\n",
       "      <td>1.0</td>\n",
       "      <td>2</td>\n",
       "    </tr>\n",
       "  </tbody>\n",
       "</table>\n",
       "</div>"
      ],
      "text/plain": [
       "       Pressure_1  Pressure_2  input_state  feedback_state  labels\n",
       "8788     0.936045    0.677060          0.0             1.0       4\n",
       "6946     0.213786    0.756718          0.0             0.0       3\n",
       "1886     0.849886    0.673203          1.0             1.0       0\n",
       "8955     0.665125    0.525781          0.0             1.0       4\n",
       "10119    0.761465    0.600131          1.0             0.0       5\n",
       "3798     0.545040    0.000000          0.0             0.0       1\n",
       "8759     0.724889    0.555494          0.0             1.0       4\n",
       "1906     0.799528    0.586400          1.0             1.0       0\n",
       "10964    0.822359    0.595502          1.0             0.0       5\n",
       "5157     0.547516    0.970324          1.0             1.0       2"
      ]
     },
     "execution_count": 14,
     "metadata": {},
     "output_type": "execute_result"
    }
   ],
   "source": [
    "df.head(10)"
   ]
  },
  {
   "cell_type": "code",
   "execution_count": 15,
   "metadata": {
    "ExecuteTime": {
     "end_time": "2020-10-31T22:58:33.460484Z",
     "start_time": "2020-10-31T22:58:33.447821Z"
    }
   },
   "outputs": [
    {
     "data": {
      "text/html": [
       "<div>\n",
       "<style scoped>\n",
       "    .dataframe tbody tr th:only-of-type {\n",
       "        vertical-align: middle;\n",
       "    }\n",
       "\n",
       "    .dataframe tbody tr th {\n",
       "        vertical-align: top;\n",
       "    }\n",
       "\n",
       "    .dataframe thead th {\n",
       "        text-align: right;\n",
       "    }\n",
       "</style>\n",
       "<table border=\"1\" class=\"dataframe\">\n",
       "  <thead>\n",
       "    <tr style=\"text-align: right;\">\n",
       "      <th></th>\n",
       "      <th>0</th>\n",
       "      <th>1</th>\n",
       "      <th>2</th>\n",
       "      <th>3</th>\n",
       "      <th>4</th>\n",
       "      <th>5</th>\n",
       "    </tr>\n",
       "  </thead>\n",
       "  <tbody>\n",
       "    <tr>\n",
       "      <th>0</th>\n",
       "      <td>0</td>\n",
       "      <td>0</td>\n",
       "      <td>0</td>\n",
       "      <td>0</td>\n",
       "      <td>1</td>\n",
       "      <td>0</td>\n",
       "    </tr>\n",
       "    <tr>\n",
       "      <th>1</th>\n",
       "      <td>0</td>\n",
       "      <td>0</td>\n",
       "      <td>0</td>\n",
       "      <td>1</td>\n",
       "      <td>0</td>\n",
       "      <td>0</td>\n",
       "    </tr>\n",
       "    <tr>\n",
       "      <th>2</th>\n",
       "      <td>1</td>\n",
       "      <td>0</td>\n",
       "      <td>0</td>\n",
       "      <td>0</td>\n",
       "      <td>0</td>\n",
       "      <td>0</td>\n",
       "    </tr>\n",
       "    <tr>\n",
       "      <th>3</th>\n",
       "      <td>0</td>\n",
       "      <td>0</td>\n",
       "      <td>0</td>\n",
       "      <td>0</td>\n",
       "      <td>1</td>\n",
       "      <td>0</td>\n",
       "    </tr>\n",
       "    <tr>\n",
       "      <th>4</th>\n",
       "      <td>0</td>\n",
       "      <td>0</td>\n",
       "      <td>0</td>\n",
       "      <td>0</td>\n",
       "      <td>0</td>\n",
       "      <td>1</td>\n",
       "    </tr>\n",
       "    <tr>\n",
       "      <th>5</th>\n",
       "      <td>0</td>\n",
       "      <td>1</td>\n",
       "      <td>0</td>\n",
       "      <td>0</td>\n",
       "      <td>0</td>\n",
       "      <td>0</td>\n",
       "    </tr>\n",
       "    <tr>\n",
       "      <th>6</th>\n",
       "      <td>0</td>\n",
       "      <td>0</td>\n",
       "      <td>0</td>\n",
       "      <td>0</td>\n",
       "      <td>1</td>\n",
       "      <td>0</td>\n",
       "    </tr>\n",
       "    <tr>\n",
       "      <th>7</th>\n",
       "      <td>1</td>\n",
       "      <td>0</td>\n",
       "      <td>0</td>\n",
       "      <td>0</td>\n",
       "      <td>0</td>\n",
       "      <td>0</td>\n",
       "    </tr>\n",
       "    <tr>\n",
       "      <th>8</th>\n",
       "      <td>0</td>\n",
       "      <td>0</td>\n",
       "      <td>0</td>\n",
       "      <td>0</td>\n",
       "      <td>0</td>\n",
       "      <td>1</td>\n",
       "    </tr>\n",
       "    <tr>\n",
       "      <th>9</th>\n",
       "      <td>0</td>\n",
       "      <td>0</td>\n",
       "      <td>1</td>\n",
       "      <td>0</td>\n",
       "      <td>0</td>\n",
       "      <td>0</td>\n",
       "    </tr>\n",
       "  </tbody>\n",
       "</table>\n",
       "</div>"
      ],
      "text/plain": [
       "   0  1  2  3  4  5\n",
       "0  0  0  0  0  1  0\n",
       "1  0  0  0  1  0  0\n",
       "2  1  0  0  0  0  0\n",
       "3  0  0  0  0  1  0\n",
       "4  0  0  0  0  0  1\n",
       "5  0  1  0  0  0  0\n",
       "6  0  0  0  0  1  0\n",
       "7  1  0  0  0  0  0\n",
       "8  0  0  0  0  0  1\n",
       "9  0  0  1  0  0  0"
      ]
     },
     "execution_count": 15,
     "metadata": {},
     "output_type": "execute_result"
    }
   ],
   "source": [
    "target_df.head(10)"
   ]
  },
  {
   "cell_type": "markdown",
   "metadata": {},
   "source": [
    "Lastly we need to drop the labels from the dataframe."
   ]
  },
  {
   "cell_type": "code",
   "execution_count": 16,
   "metadata": {
    "ExecuteTime": {
     "end_time": "2020-10-31T22:58:33.475677Z",
     "start_time": "2020-10-31T22:58:33.462793Z"
    }
   },
   "outputs": [
    {
     "data": {
      "text/html": [
       "<div>\n",
       "<style scoped>\n",
       "    .dataframe tbody tr th:only-of-type {\n",
       "        vertical-align: middle;\n",
       "    }\n",
       "\n",
       "    .dataframe tbody tr th {\n",
       "        vertical-align: top;\n",
       "    }\n",
       "\n",
       "    .dataframe thead th {\n",
       "        text-align: right;\n",
       "    }\n",
       "</style>\n",
       "<table border=\"1\" class=\"dataframe\">\n",
       "  <thead>\n",
       "    <tr style=\"text-align: right;\">\n",
       "      <th></th>\n",
       "      <th>Pressure_1</th>\n",
       "      <th>Pressure_2</th>\n",
       "      <th>input_state</th>\n",
       "      <th>feedback_state</th>\n",
       "    </tr>\n",
       "  </thead>\n",
       "  <tbody>\n",
       "    <tr>\n",
       "      <th>8788</th>\n",
       "      <td>0.936045</td>\n",
       "      <td>0.677060</td>\n",
       "      <td>0.0</td>\n",
       "      <td>1.0</td>\n",
       "    </tr>\n",
       "    <tr>\n",
       "      <th>6946</th>\n",
       "      <td>0.213786</td>\n",
       "      <td>0.756718</td>\n",
       "      <td>0.0</td>\n",
       "      <td>0.0</td>\n",
       "    </tr>\n",
       "    <tr>\n",
       "      <th>1886</th>\n",
       "      <td>0.849886</td>\n",
       "      <td>0.673203</td>\n",
       "      <td>1.0</td>\n",
       "      <td>1.0</td>\n",
       "    </tr>\n",
       "    <tr>\n",
       "      <th>8955</th>\n",
       "      <td>0.665125</td>\n",
       "      <td>0.525781</td>\n",
       "      <td>0.0</td>\n",
       "      <td>1.0</td>\n",
       "    </tr>\n",
       "    <tr>\n",
       "      <th>10119</th>\n",
       "      <td>0.761465</td>\n",
       "      <td>0.600131</td>\n",
       "      <td>1.0</td>\n",
       "      <td>0.0</td>\n",
       "    </tr>\n",
       "  </tbody>\n",
       "</table>\n",
       "</div>"
      ],
      "text/plain": [
       "       Pressure_1  Pressure_2  input_state  feedback_state\n",
       "8788     0.936045    0.677060          0.0             1.0\n",
       "6946     0.213786    0.756718          0.0             0.0\n",
       "1886     0.849886    0.673203          1.0             1.0\n",
       "8955     0.665125    0.525781          0.0             1.0\n",
       "10119    0.761465    0.600131          1.0             0.0"
      ]
     },
     "execution_count": 16,
     "metadata": {},
     "output_type": "execute_result"
    }
   ],
   "source": [
    "df = df.drop(['labels'],axis=1)\n",
    "df.head()"
   ]
  },
  {
   "cell_type": "code",
   "execution_count": 17,
   "metadata": {
    "ExecuteTime": {
     "end_time": "2020-10-31T22:58:33.482146Z",
     "start_time": "2020-10-31T22:58:33.477953Z"
    }
   },
   "outputs": [
    {
     "name": "stdout",
     "output_type": "stream",
     "text": [
      "Input Dataframe Shape: (12000, 4)\n",
      "Target Dataframe Shape: (12000, 6)\n"
     ]
    }
   ],
   "source": [
    "print('Input Dataframe Shape: {}'.format(df.shape))\n",
    "print('Target Dataframe Shape: {}'.format(target_df.shape))"
   ]
  },
  {
   "cell_type": "markdown",
   "metadata": {},
   "source": [
    "# Split Data into Train and Test\n",
    "\n",
    "Our input and label dataframes are ready to be split into training and validation data.\n",
    "To do this we'll use sklearn and the train_test_split function."
   ]
  },
  {
   "cell_type": "code",
   "execution_count": 18,
   "metadata": {
    "ExecuteTime": {
     "end_time": "2020-10-31T22:58:33.550252Z",
     "start_time": "2020-10-31T22:58:33.485028Z"
    }
   },
   "outputs": [],
   "source": [
    "from sklearn.model_selection import train_test_split\n",
    "\n",
    "# We need to pass numpy arrays which can easy be converted from dataframes\n",
    "\n",
    "X_train, X_test, y_train, y_test = train_test_split(df.to_numpy(), target_df.to_numpy(), test_size=0.3)"
   ]
  },
  {
   "cell_type": "code",
   "execution_count": 19,
   "metadata": {
    "ExecuteTime": {
     "end_time": "2020-10-31T22:58:33.558390Z",
     "start_time": "2020-10-31T22:58:33.552929Z"
    }
   },
   "outputs": [
    {
     "data": {
      "text/plain": [
       "((8400, 4), (3600, 4), (8400, 6), (3600, 6))"
      ]
     },
     "execution_count": 19,
     "metadata": {},
     "output_type": "execute_result"
    }
   ],
   "source": [
    "X_train.shape, X_test.shape, y_train.shape, y_test.shape"
   ]
  },
  {
   "cell_type": "markdown",
   "metadata": {},
   "source": [
    "# Generate the Model"
   ]
  },
  {
   "cell_type": "code",
   "execution_count": 20,
   "metadata": {
    "ExecuteTime": {
     "end_time": "2020-10-31T22:58:33.723176Z",
     "start_time": "2020-10-31T22:58:33.562286Z"
    }
   },
   "outputs": [],
   "source": [
    "model = tf.keras.models.Sequential([\n",
    "    tf.keras.layers.Dense(4,activation='relu',\n",
    "                          input_dim=4),\n",
    "    tf.keras.layers.Dense(16,activation='relu'),\n",
    "    tf.keras.layers.Dropout(.2),\n",
    "    tf.keras.layers.Dense(16,activation='relu'),\n",
    "    tf.keras.layers.Dense(6, activation='softmax')\n",
    "])"
   ]
  },
  {
   "cell_type": "code",
   "execution_count": 21,
   "metadata": {
    "ExecuteTime": {
     "end_time": "2020-10-31T22:58:33.732629Z",
     "start_time": "2020-10-31T22:58:33.724886Z"
    }
   },
   "outputs": [
    {
     "name": "stdout",
     "output_type": "stream",
     "text": [
      "Model: \"sequential\"\n",
      "_________________________________________________________________\n",
      "Layer (type)                 Output Shape              Param #   \n",
      "=================================================================\n",
      "dense (Dense)                (None, 4)                 20        \n",
      "_________________________________________________________________\n",
      "dense_1 (Dense)              (None, 16)                80        \n",
      "_________________________________________________________________\n",
      "dropout (Dropout)            (None, 16)                0         \n",
      "_________________________________________________________________\n",
      "dense_2 (Dense)              (None, 16)                272       \n",
      "_________________________________________________________________\n",
      "dense_3 (Dense)              (None, 6)                 102       \n",
      "=================================================================\n",
      "Total params: 474\n",
      "Trainable params: 474\n",
      "Non-trainable params: 0\n",
      "_________________________________________________________________\n"
     ]
    }
   ],
   "source": [
    "model.summary()"
   ]
  },
  {
   "cell_type": "code",
   "execution_count": 22,
   "metadata": {
    "ExecuteTime": {
     "end_time": "2020-10-31T22:58:33.750549Z",
     "start_time": "2020-10-31T22:58:33.735855Z"
    }
   },
   "outputs": [],
   "source": [
    "model.compile(loss='categorical_crossentropy',optimizer='rmsprop',\n",
    "             metrics=['accuracy'])"
   ]
  },
  {
   "cell_type": "code",
   "execution_count": 23,
   "metadata": {
    "ExecuteTime": {
     "end_time": "2020-10-31T22:58:38.343141Z",
     "start_time": "2020-10-31T22:58:33.759841Z"
    }
   },
   "outputs": [
    {
     "name": "stdout",
     "output_type": "stream",
     "text": [
      "Epoch 1/5\n",
      "840/840 - 1s - loss: 0.8031 - accuracy: 0.7451 - val_loss: 0.0851 - val_accuracy: 1.0000\n",
      "Epoch 2/5\n",
      "840/840 - 1s - loss: 0.1169 - accuracy: 0.9635 - val_loss: 0.0112 - val_accuracy: 1.0000\n",
      "Epoch 3/5\n",
      "840/840 - 1s - loss: 0.0572 - accuracy: 0.9798 - val_loss: 0.0019 - val_accuracy: 1.0000\n",
      "Epoch 4/5\n",
      "840/840 - 1s - loss: 0.0458 - accuracy: 0.9838 - val_loss: 9.0125e-04 - val_accuracy: 1.0000\n",
      "Epoch 5/5\n",
      "840/840 - 1s - loss: 0.0363 - accuracy: 0.9871 - val_loss: 3.0151e-04 - val_accuracy: 1.0000\n"
     ]
    }
   ],
   "source": [
    "history = model.fit(x=X_train,y=y_train,\n",
    "                   batch_size=10,\n",
    "                   epochs=5,\n",
    "                   verbose=2,\n",
    "                   validation_data=(X_test,y_test))"
   ]
  },
  {
   "cell_type": "code",
   "execution_count": 24,
   "metadata": {
    "ExecuteTime": {
     "end_time": "2020-10-31T22:58:38.492216Z",
     "start_time": "2020-10-31T22:58:38.345907Z"
    }
   },
   "outputs": [
    {
     "name": "stdout",
     "output_type": "stream",
     "text": [
      "[9.9928015e-01 7.4255539e-08 6.4284177e-05 1.0575506e-10 6.5540010e-04\n",
      " 4.2019727e-10]\n"
     ]
    }
   ],
   "source": [
    "results = model.predict([[.6, .3, 1.0, 1.0]])\n",
    "results = results[0,:]\n",
    "print(results)"
   ]
  },
  {
   "cell_type": "code",
   "execution_count": 25,
   "metadata": {
    "ExecuteTime": {
     "end_time": "2020-10-31T22:58:39.038292Z",
     "start_time": "2020-10-31T22:58:38.494849Z"
    }
   },
   "outputs": [
    {
     "data": {
      "text/plain": [
       "([<matplotlib.axis.XTick at 0x7fc528114a90>,\n",
       "  <matplotlib.axis.XTick at 0x7fc528114710>,\n",
       "  <matplotlib.axis.XTick at 0x7fc528114390>,\n",
       "  <matplotlib.axis.XTick at 0x7fc528136a50>,\n",
       "  <matplotlib.axis.XTick at 0x7fc528136950>,\n",
       "  <matplotlib.axis.XTick at 0x7fc5280c22d0>],\n",
       " [Text(0, 0, 'Normal, Open'),\n",
       "  Text(1, 0, 'Normal, Close'),\n",
       "  Text(2, 0, 'Reverse, Open'),\n",
       "  Text(3, 0, 'Reverse, Close'),\n",
       "  Text(4, 0, 'Stuck Open'),\n",
       "  Text(5, 0, 'Stuck Close')])"
      ]
     },
     "execution_count": 25,
     "metadata": {},
     "output_type": "execute_result"
    },
    {
     "data": {
      "image/png": "[encoded data removed]",
      "text/plain": [
       "<Figure size 432x288 with 1 Axes>"
      ]
     },
     "metadata": {},
     "output_type": "display_data"
    }
   ],
   "source": [
    "import matplotlib.pyplot as plt\n",
    "plt.style.use('ggplot')\n",
    "\n",
    "x = ['Normal, Open','Normal, Close','Reverse, Open','Reverse, Close','Stuck Open','Stuck Close']\n",
    "\n",
    "x_pos = [i for i,_ in enumerate(x)]\n",
    "\n",
    "plt.bar(x_pos,results,color='blue')\n",
    "plt.xlabel(\"Equipment States\")\n",
    "plt.ylabel(\"Probabilities\")\n",
    "\n",
    "plt.xticks(x_pos,x,rotation='vertical')"
   ]
  },
  {
   "cell_type": "markdown",
   "metadata": {},
   "source": [
    "# Testing and Animation"
   ]
  },
  {
   "cell_type": "code",
   "execution_count": 26,
   "metadata": {
    "ExecuteTime": {
     "end_time": "2020-10-31T22:58:39.359230Z",
     "start_time": "2020-10-31T22:58:39.039676Z"
    },
    "scrolled": true
   },
   "outputs": [
    {
     "data": {
      "image/png": "[encoded data removed]",
      "text/plain": [
       "<Figure size 720x432 with 3 Axes>"
      ]
     },
     "metadata": {},
     "output_type": "display_data"
    }
   ],
   "source": [
    "#data = [.5,.2,1.0,.1,.1,1.0]\n",
    "#time = [0,1,2,3,4,5]\n",
    "\n",
    "#fig, axes = plt.subplots(nrows=2, ncols=1, figsize=(10,6))\n",
    "\n",
    "#axis2 = axes[0].twinx()\n",
    "#axes[0].plot(time,data, color='green')\n",
    "#axes[0].set_title('Time Series Sensory Data')\n",
    "#axes[0].set_ylabel('Pressure (PSI)')\n",
    "#axes[0].set_xlim([0,250])\n",
    "#axis2.set_ylabel('Binary State')\n",
    "#axis2.set_ylim([0,1])\n",
    "#axis2.yaxis.set_ticks([0,1])\n",
    "#axis2.plot(time,[1,1,1,0,0,0])\n",
    "\n",
    "#axes[1].barh(x_pos,data, color='red')\n",
    "#axes[1].set_title('Equipment State Probabilities')\n",
    "#axes[1].set_xlim([0,1])\n",
    "#axes[1].set_yticks(x_pos)\n",
    "#axes[1].set_yticklabels(x)\n",
    "\n",
    "#fig.tight_layout()"
   ]
  },
  {
   "cell_type": "code",
   "execution_count": 28,
   "metadata": {
    "ExecuteTime": {
     "end_time": "2020-10-31T22:59:27.014373Z",
     "start_time": "2020-10-31T22:59:20.079905Z"
    }
   },
   "outputs": [],
   "source": [
    "#import random\n",
    "#import numpy as np\n",
    "\n",
    "#MAX_LIMIT = 250\n",
    "#TIME_SERIES = np.arange(start=1,stop=250)\n",
    "\n",
    "#p1_test = []\n",
    "#p2_test = []\n",
    "#input_test = []\n",
    "#feedback_test = []\n",
    "\n",
    "#fig.clf()\n",
    "\n",
    "#fig, axes = plt.subplots(nrows=2, ncols=1, figsize=(10,6))\n",
    "#ims = []\n",
    "\n",
    "#axis2 = axes[0].twinx()\n",
    "#axes[0].set_title('Time Series Sensory Data')\n",
    "#axes[0].set_ylabel('Pressure (PSI)')\n",
    "#axes[0].set_xlim([0,250])\n",
    "#axis2.set_ylabel('Binary State')\n",
    "#axis2.set_ylim([0,5])\n",
    "#axis2.yaxis.set_ticks([0,1])\n",
    "\n",
    "\n",
    "#axes[1].barh(x_pos,data, color='red')\n",
    "#axes[1].set_title('Equipment State Probabilities')\n",
    "#axes[1].set_xlim([0,1])\n",
    "#axes[1].set_yticks(x_pos)\n",
    "#axes[1].set_yticklabels(x)\n",
    "\n",
    "#for index in TIME_SERIES:\n",
    "#    p1 = random.uniform(20.0,75.0)\n",
    "#    p2 = random.uniform(20.0,75.0)\n",
    "#    input_no = float(random.randint(0,1))\n",
    "#    feedback_no = float(random.randint(0,1))\n",
    "\n",
    "#    max_pressure = np.max([p1,p2])\n",
    "    \n",
    "#    p1_test.append(p1)\n",
    "#    p2_test.append(p2)\n",
    "#    input_test.append(input_no)\n",
    "#    feedback_test.append(feedback_no)\n",
    "\n",
    "#    input_data = [p1/max_pressure,p2/max_pressure,input_no,feedback_no]\n",
    "#    input_data = np.expand_dims(input_data,axis=0)\n",
    "#    forecast = model.predict(input_data)\n",
    "#    forecast = forecast[0,:]\n",
    "\n",
    "    # Plotting\n",
    "    #axes[0].plot(TIME_SERIES[:index],p1_test, color='green')\n",
    "    #axes[0].plot(TIME_SERIES[:index],p2_test, color='blue')\n",
    "    #axis2.plot(TIME_SERIES[:index],input_test, color='black')\n",
    "    #axis2.plot(TIME_SERIES[:index],feedback_test, color='red')\n",
    "    #axes[1].clear()\n",
    "    #axes[1].set_xlim([0,1])\n",
    "    #axes[1].set_yticks(x_pos)\n",
    "    #axes[1].set_yticklabels(x)\n",
    "    #axes[1].barh(x_pos,forecast, color='lightblue')\n",
    "    #fig.tight_layout()\n",
    "    #fig.savefig('/tmp/animation/{}'.format(index))\n"
   ]
  },
  {
   "cell_type": "code",
   "execution_count": 52,
   "metadata": {
    "ExecuteTime": {
     "end_time": "2020-10-31T23:46:41.966046Z",
     "start_time": "2020-10-31T23:45:49.001306Z"
    }
   },
   "outputs": [
    {
     "data": {
      "image/png": "[encoded data removed]",
      "text/plain": [
       "<Figure size 864x432 with 3 Axes>"
      ]
     },
     "metadata": {},
     "output_type": "display_data"
    }
   ],
   "source": [
    "from matplotlib.animation import FuncAnimation\n",
    "\n",
    "fig.clear()\n",
    "\n",
    "fig, axes = plt.subplots(nrows=2, ncols=1,figsize=(12,6))\n",
    "\n",
    "axis2 = axes[0].twinx()\n",
    "axes[0].set_title('Time Series Sensory Data')\n",
    "axes[0].set_ylabel('Pressure (PSI)')\n",
    "axes[0].set_xlim([0,250])\n",
    "axes[0].set_ylim([10,85])\n",
    "axis2.set_ylabel('Binary State')\n",
    "axis2.set_ylim([0,5])\n",
    "axis2.yaxis.set_ticks([0,1])\n",
    "\n",
    "line1, = axes[0].plot([],[], color='green')\n",
    "line2, = axes[0].plot([],[], color='blue')\n",
    "line3, = axis2.plot([],[], color='black')\n",
    "line4, = axis2.plot([],[], color='red')\n",
    "\n",
    "p1_test = []\n",
    "p2_test = []\n",
    "input_test = []\n",
    "feedback_test = []\n",
    "time = []\n",
    "\n",
    "def animate(i):\n",
    "    p1 = random.uniform(20.0,75.0)\n",
    "    p2 = random.uniform(20.0,75.0)\n",
    "    n1 = float(random.randint(0,1))\n",
    "    n2 = float(random.randint(0,1))\n",
    "\n",
    "    max_pressure = np.max([p1,p2])\n",
    "    \n",
    "    p1_test.append(p1)\n",
    "    p2_test.append(p2)\n",
    "    input_test.append(n1)\n",
    "    feedback_test.append(n2)\n",
    "\n",
    "    input_data = [p1/max_pressure,p2/max_pressure,input_no,feedback_no]\n",
    "    input_data = np.expand_dims(input_data,axis=0)\n",
    "    forecast = model.predict(input_data)\n",
    "    forecast = forecast[0,:]\n",
    "    \n",
    "    line1.set_data(np.arange(len(p1_test)),p1_test)\n",
    "    line2.set_data(np.arange(len(p1_test)),p2_test) \n",
    "    line3.set_data(np.arange(len(p1_test)),input_test)\n",
    "    line4.set_data(np.arange(len(p1_test)),feedback_test)\n",
    "    axes[1].cla()\n",
    "    axes[1].set_title('Current Equipment State Probabilities')\n",
    "    axes[1].set_xlim([0,1])\n",
    "    axes[1].set_yticks(x_pos)\n",
    "    axes[1].set_yticklabels(x)\n",
    "    axes[1].barh(x_pos,forecast)\n",
    "    fig.tight_layout()\n",
    "    \n",
    "    return line1,line2,line3,line4\n",
    "\n",
    "anim = FuncAnimation(fig,animate,frames=250,interval=100)\n",
    "\n",
    "anim.save('tryagain.mp4')\n",
    "#plt.show"
   ]
  },
  {
   "cell_type": "code",
   "execution_count": null,
   "metadata": {},
   "outputs": [],
   "source": []
  }
 ],
 "metadata": {
  "hide_input": false,
  "kernelspec": {
   "display_name": "mechClass",
   "language": "python",
   "name": "mechclass"
  },
  "language_info": {
   "codemirror_mode": {
    "name": "ipython",
    "version": 3
   },
   "file_extension": ".py",
   "mimetype": "text/x-python",
   "name": "python",
   "nbconvert_exporter": "python",
   "pygments_lexer": "ipython3",
   "version": "3.7.7"
  },
  "toc": {
   "base_numbering": 1,
   "nav_menu": {},
   "number_sections": true,
   "sideBar": true,
   "skip_h1_title": false,
   "title_cell": "Table of Contents",
   "title_sidebar": "Contents",
   "toc_cell": false,
   "toc_position": {},
   "toc_section_display": true,
   "toc_window_display": false
  },
  "varInspector": {
   "cols": {
    "lenName": 16,
    "lenType": 16,
    "lenVar": 40
   },
   "kernels_config": {
    "python": {
     "delete_cmd_postfix": "",
     "delete_cmd_prefix": "del ",
     "library": "var_list.py",
     "varRefreshCmd": "print(var_dic_list())"
    },
    "r": {
     "delete_cmd_postfix": ") ",
     "delete_cmd_prefix": "rm(",
     "library": "var_list.r",
     "varRefreshCmd": "cat(var_dic_list()) "
    }
   },
   "types_to_exclude": [
    "module",
    "function",
    "builtin_function_or_method",
    "instance",
    "_Feature"
   ],
   "window_display": false
  }
 },
 "nbformat": 4,
 "nbformat_minor": 4
}
