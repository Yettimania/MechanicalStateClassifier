{
 "cells": [
  {
   "cell_type": "markdown",
   "metadata": {},
   "source": [
    " # Overview\n",
    " \n",
    " This project will classify a number of states in time series data for a mechanical system. We'll review the system and conlude the various operating states. These will vary from normal operation to diagnosing failure states. Why is this important? Failure diagnositics in many industries are often done my an individual and it takes substantial time to conclude the cause of failure. This accrues costs and downtime on equipment. We can build a model to review a window of data and provide probabilites on what the most likely failure mode was immediatly! This can greatly hone in on a particular problem to solve saving substantial time in resolving the failure on mechanical equipment."
   ]
  },
  {
   "cell_type": "markdown",
   "metadata": {
    "ExecuteTime": {
     "end_time": "2020-10-28T21:24:57.028945Z",
     "start_time": "2020-10-28T21:24:57.026674Z"
    }
   },
   "source": [
    "## Operating Parameters\n",
    "\n",
    "In this example we'll look at a solenoid valve in a fluid control system. This valve is remotely controlled to be open or closed allowing fluid to flow through. In this example, we'll assume we only want flow in one direction.\n",
    "\n",
    "It is not uncommon during engineering design phases to develop FMECA (Failure Mode, Effects & Criticality Analysis) covering all the potential failure models for a device or system. We can use this to our advantage and generate what the data would look like to build a classifier. If we want the flow to only go in one direction, image this valve was installed in a system that had dirty fluid and was prone to reverse pressurizastion due to downstream anomolies. It wouldn't be uncommon in a 'dirty' application for the valve to become stuck at some point. Therefore, imagine we had a feedback sensor to return the current state of the valve. We'll use binary classifiers for open and closed but if we see a disagreeance between these two readings, we'd know the valve is not in the position we want.\n",
    "\n",
    "We'll do a multi-class model to identify:\n",
    "\n",
    "1. Normally Open\n",
    "2. Normally Close\n",
    "3. Reverse Pressure Open\n",
    "2. Reverse Pressure Close\n",
    "3. Stuck Open\n",
    "4. Stuck Closed\n",
    "\n",
    "We'll use a rule based system we understand to generate the data. This can be expanded to much more complex systems and data. \n",
    "\n",
    "The conditions for this application will be:\n",
    "\n",
    "- P1 between 45-75 PSI\n",
    "- P2 between 25-55 PSI\n",
    "- Inpute State - 0 or 1\n",
    "- Feedback State - 0 or 1"
   ]
  },
  {
   "cell_type": "markdown",
   "metadata": {},
   "source": [
    "### Generate Normal Open Operating Data\n",
    "\n",
    "What classifies as 'Normal'? In this case, because our valve is intended to be uni-directional, our upstream pressure should always be greater than our down stream. Secondly, during normal operation, the valve position and feedback would be identical as 0==0 for closed or 1==1 for open."
   ]
  },
  {
   "cell_type": "code",
   "execution_count": 1,
   "metadata": {
    "ExecuteTime": {
     "end_time": "2020-10-31T19:22:16.348294Z",
     "start_time": "2020-10-31T19:22:16.330068Z"
    }
   },
   "outputs": [],
   "source": [
    "# Define the length of this data set.\n",
    "import random\n",
    "\n",
    "DATA_SET_SIZE = 2000\n",
    "pressure_1 = []\n",
    "pressure_2 = []\n",
    "input_state = []\n",
    "feedback_state = []\n",
    "labels = []\n",
    "\n",
    "# LABELINNG SCHEME\n",
    "NORMAL_OPEN = 0\n",
    "NORMAL_CLOSE = 1\n",
    "REV_PRESSURE_OPEN = 2\n",
    "REV_PRESSURE_CLOSE = 3\n",
    "STUCK_OPEN = 4\n",
    "STUCK_CLOSED = 5\n",
    "\n",
    "for index in range(DATA_SET_SIZE):\n",
    "        pressure = random.uniform(45.0,75.0)\n",
    "        #state = random.randint(0,1)\n",
    "        state = 1\n",
    "        \n",
    "        pressure_1.append(pressure)\n",
    "        pressure_2.append(pressure-random.uniform(15.0,25.0))\n",
    "        input_state.append(state)\n",
    "        feedback_state.append(state)\n",
    "        labels.append(NORMAL_OPEN)\n",
    "        \n",
    "        \n",
    "print( '\\n'.join([\n",
    "    f'Length of Generated Data: {len(pressure_1)}',\n",
    "    f'Pressure_1[0]: {pressure_1[0]}',\n",
    "    f'Pressure_2[0]: {pressure_2[0]}',\n",
    "    f'Input_state[0]: {input_state[0]}',\n",
    "    f'Feedback_State[0]: {feedback_state[0]}',\n",
    "    f'Label[0]: {labels[0]}'\n",
    "]))\n",
    "        "
   ]
  },
  {
   "cell_type": "markdown",
   "metadata": {
    "ExecuteTime": {
     "end_time": "2020-10-29T20:56:13.851446Z",
     "start_time": "2020-10-29T20:56:13.847859Z"
    }
   },
   "source": [
    "### Generate Normal Closed Operating Data\n",
    "\n",
    "In this case, we'll simply switch the `state=0` and set pressure_2 equal to zero."
   ]
  },
  {
   "cell_type": "code",
   "execution_count": 2,
   "metadata": {
    "ExecuteTime": {
     "end_time": "2020-10-31T19:22:16.357486Z",
     "start_time": "2020-10-31T19:22:16.350238Z"
    }
   },
   "outputs": [],
   "source": [
    "for index in range(DATA_SET_SIZE):\n",
    "        pressure = random.uniform(45.0,75.0)\n",
    "        #state = random.randint(0,1)\n",
    "        state = 0\n",
    "        \n",
    "        pressure_1.append(pressure)\n",
    "        pressure_2.append(0.0)\n",
    "        input_state.append(state)\n",
    "        feedback_state.append(state)\n",
    "        labels.append(NORMAL_CLOSE)\n",
    "        \n",
    "        \n",
    "print( '\\n'.join([\n",
    "    f'Length of Generated Data: {len(pressure_1)}',\n",
    "    f'Pressure_1[500]: {pressure_1[500]}',\n",
    "    f'Pressure_2[500]: {pressure_2[500]}',\n",
    "    f'Input_state[500]: {input_state[500]}',\n",
    "    f'Feedback_State[500]: {feedback_state[500]}',\n",
    "    f'Label[500]: {labels[500]}'\n",
    "]))\n",
    "        "
   ]
  },
  {
   "cell_type": "markdown",
   "metadata": {},
   "source": [
    "### Generate Rev Pressure Open Operating Data\n",
    "\n",
    "We need to make P2 > P1 and set the state to 1 for open. Adjusting the label as required."
   ]
  },
  {
   "cell_type": "code",
   "execution_count": 3,
   "metadata": {
    "ExecuteTime": {
     "end_time": "2020-10-31T19:22:16.369252Z",
     "start_time": "2020-10-31T19:22:16.360293Z"
    }
   },
   "outputs": [],
   "source": [
    "for index in range(DATA_SET_SIZE):\n",
    "        pressure = random.uniform(45.0,75.0)\n",
    "        #state = random.randint(0,1)\n",
    "        state = 1\n",
    "        \n",
    "        pressure_2.append(pressure)\n",
    "        pressure_1.append(pressure-random.uniform(15.0,25.0))\n",
    "        input_state.append(state)\n",
    "        feedback_state.append(state)\n",
    "        labels.append(REV_PRESSURE_OPEN)\n",
    "        \n",
    "        \n",
    "print( '\\n'.join([\n",
    "    f'Length of Generated Data: {len(pressure_1)}',\n",
    "    f'Pressure_1[1000]: {pressure_1[1000]}',\n",
    "    f'Pressure_2[1000]: {pressure_2[1000]}',\n",
    "    f'Input_state[1000]: {input_state[1000]}',\n",
    "    f'Feedback_State[1000]: {feedback_state[1000]}',\n",
    "    f'Label[1000]: {labels[1000]}'\n",
    "]))"
   ]
  },
  {
   "cell_type": "markdown",
   "metadata": {},
   "source": [
    "### Generate Rev Pressure Close Operating Data\n",
    "\n",
    "We will switch the state to 0 and update the label."
   ]
  },
  {
   "cell_type": "code",
   "execution_count": 4,
   "metadata": {
    "ExecuteTime": {
     "end_time": "2020-10-31T19:22:16.379858Z",
     "start_time": "2020-10-31T19:22:16.371230Z"
    }
   },
   "outputs": [],
   "source": [
    "for index in range(DATA_SET_SIZE):\n",
    "        pressure = random.uniform(45.0,75.0)\n",
    "        #state = random.randint(0,1)\n",
    "        state = 0\n",
    "        \n",
    "        pressure_2.append(pressure)\n",
    "        pressure_1.append(pressure-random.uniform(15.0,25.0))\n",
    "        input_state.append(state)\n",
    "        feedback_state.append(state)\n",
    "        labels.append(REV_PRESSURE_CLOSE)\n",
    "        \n",
    "        \n",
    "print( '\\n'.join([\n",
    "    f'Length of Generated Data: {len(pressure_1)}',\n",
    "    f'Pressure_1[1500]: {pressure_1[1500]}',\n",
    "    f'Pressure_2[1500]: {pressure_2[1500]}',\n",
    "    f'Input_state[1500]: {input_state[1500]}',\n",
    "    f'Feedback_State[1500]: {feedback_state[1500]}',\n",
    "    f'Label[1500]: {labels[1500]}'\n",
    "]))"
   ]
  },
  {
   "cell_type": "markdown",
   "metadata": {
    "ExecuteTime": {
     "end_time": "2020-10-29T21:09:25.596310Z",
     "start_time": "2020-10-29T21:09:25.594182Z"
    }
   },
   "source": [
    "### Generate Stuck Open Data\n",
    "\n",
    "Stuck open occures when the `input_state = 0` and the `feedback_state` is the opposite."
   ]
  },
  {
   "cell_type": "code",
   "execution_count": 5,
   "metadata": {
    "ExecuteTime": {
     "end_time": "2020-10-31T19:22:16.393787Z",
     "start_time": "2020-10-31T19:22:16.382638Z"
    }
   },
   "outputs": [],
   "source": [
    "for index in range(DATA_SET_SIZE):\n",
    "        pressure = random.uniform(45.0,75.0)\n",
    "        #state = random.randint(0,1)\n",
    "        state = 0\n",
    "        \n",
    "        pressure_1.append(pressure)\n",
    "        pressure_2.append(pressure-random.uniform(15.0,25.0))\n",
    "        input_state.append(state)\n",
    "        feedback_state.append(state+1)\n",
    "        labels.append(STUCK_OPEN)\n",
    "        \n",
    "        \n",
    "print( '\\n'.join([\n",
    "    f'Length of Generated Data: {len(pressure_1)}',\n",
    "    f'Pressure_1[2000]: {pressure_1[2000]}',\n",
    "    f'Pressure_2[2000]: {pressure_2[2000]}',\n",
    "    f'Input_state[2000]: {input_state[2000]}',\n",
    "    f'Feedback_State[2000]: {feedback_state[2000]}',\n",
    "    f'Label[2000]: {labels[2000]}'\n",
    "]))"
   ]
  },
  {
   "cell_type": "markdown",
   "metadata": {},
   "source": [
    "### Generate Stuck Closed Data\n",
    "\n",
    "Lastly, we'll inverse the step taken in the above section."
   ]
  },
  {
   "cell_type": "code",
   "execution_count": 6,
   "metadata": {
    "ExecuteTime": {
     "end_time": "2020-10-31T19:22:16.402943Z",
     "start_time": "2020-10-31T19:22:16.395335Z"
    }
   },
   "outputs": [],
   "source": [
    "for index in range(DATA_SET_SIZE):\n",
    "        pressure = random.uniform(45.0,75.0)\n",
    "        #state = random.randint(0,1)\n",
    "        state = 1\n",
    "        \n",
    "        pressure_1.append(pressure)\n",
    "        pressure_2.append(pressure-random.uniform(15.0,25.0))\n",
    "        input_state.append(state)\n",
    "        feedback_state.append(state-1)\n",
    "        labels.append(STUCK_CLOSED)\n",
    "        \n",
    "        \n",
    "print( '\\n'.join([\n",
    "    f'Length of Generated Data: {len(pressure_1)}',\n",
    "    f'Pressure_1[2500]: {pressure_1[2500]}',\n",
    "    f'Pressure_2[2500]: {pressure_2[2500]}',\n",
    "    f'Input_state[2500]: {input_state[2500]}',\n",
    "    f'Feedback_State[2500]: {feedback_state[2500]}',\n",
    "    f'Label[2500]: {labels[2500]}'\n",
    "]))"
   ]
  },
  {
   "cell_type": "markdown",
   "metadata": {},
   "source": [
    "Now we've created a 2500 dataset for various states of the valve that are labeled with the 6 variations of operation. We'll then form this into a table and export it so we don't  have to recreate datasets when generating the model."
   ]
  },
  {
   "cell_type": "code",
   "execution_count": 7,
   "metadata": {
    "ExecuteTime": {
     "end_time": "2020-10-31T19:22:17.080344Z",
     "start_time": "2020-10-31T19:22:16.404486Z"
    }
   },
   "outputs": [
    {
     "data": {
      "text/html": [
       "<div>\n",
       "<style scoped>\n",
       "    .dataframe tbody tr th:only-of-type {\n",
       "        vertical-align: middle;\n",
       "    }\n",
       "\n",
       "    .dataframe tbody tr th {\n",
       "        vertical-align: top;\n",
       "    }\n",
       "\n",
       "    .dataframe thead th {\n",
       "        text-align: right;\n",
       "    }\n",
       "</style>\n",
       "<table border=\"1\" class=\"dataframe\">\n",
       "  <thead>\n",
       "    <tr style=\"text-align: right;\">\n",
       "      <th></th>\n",
       "      <th>Pressure_1</th>\n",
       "      <th>Pressure_2</th>\n",
       "      <th>input_state</th>\n",
       "      <th>feedback_state</th>\n",
       "      <th>labels</th>\n",
       "    </tr>\n",
       "  </thead>\n",
       "  <tbody>\n",
       "    <tr>\n",
       "      <th>0</th>\n",
       "      <td>46.967110</td>\n",
       "      <td>24.612312</td>\n",
       "      <td>1</td>\n",
       "      <td>1</td>\n",
       "      <td>0</td>\n",
       "    </tr>\n",
       "    <tr>\n",
       "      <th>1</th>\n",
       "      <td>46.940347</td>\n",
       "      <td>31.196085</td>\n",
       "      <td>1</td>\n",
       "      <td>1</td>\n",
       "      <td>0</td>\n",
       "    </tr>\n",
       "    <tr>\n",
       "      <th>2</th>\n",
       "      <td>53.553435</td>\n",
       "      <td>35.161072</td>\n",
       "      <td>1</td>\n",
       "      <td>1</td>\n",
       "      <td>0</td>\n",
       "    </tr>\n",
       "    <tr>\n",
       "      <th>3</th>\n",
       "      <td>71.088936</td>\n",
       "      <td>52.947956</td>\n",
       "      <td>1</td>\n",
       "      <td>1</td>\n",
       "      <td>0</td>\n",
       "    </tr>\n",
       "    <tr>\n",
       "      <th>4</th>\n",
       "      <td>65.643129</td>\n",
       "      <td>46.005938</td>\n",
       "      <td>1</td>\n",
       "      <td>1</td>\n",
       "      <td>0</td>\n",
       "    </tr>\n",
       "  </tbody>\n",
       "</table>\n",
       "</div>"
      ],
      "text/plain": [
       "   Pressure_1  Pressure_2  input_state  feedback_state  labels\n",
       "0   46.967110   24.612312            1               1       0\n",
       "1   46.940347   31.196085            1               1       0\n",
       "2   53.553435   35.161072            1               1       0\n",
       "3   71.088936   52.947956            1               1       0\n",
       "4   65.643129   46.005938            1               1       0"
      ]
     },
     "execution_count": 7,
     "metadata": {},
     "output_type": "execute_result"
    }
   ],
   "source": [
    "import pandas as pd\n",
    "df = pd.DataFrame({'Pressure_1':pressure_1,'Pressure_2':pressure_2,'input_state':input_state,\n",
    "                  'feedback_state':feedback_state,'labels':labels})\n",
    "df.head(5)"
   ]
  },
  {
   "cell_type": "code",
   "execution_count": 8,
   "metadata": {
    "ExecuteTime": {
     "end_time": "2020-10-31T19:22:17.104684Z",
     "start_time": "2020-10-31T19:22:17.083237Z"
    }
   },
   "outputs": [
    {
     "data": {
      "text/html": [
       "<div>\n",
       "<style scoped>\n",
       "    .dataframe tbody tr th:only-of-type {\n",
       "        vertical-align: middle;\n",
       "    }\n",
       "\n",
       "    .dataframe tbody tr th {\n",
       "        vertical-align: top;\n",
       "    }\n",
       "\n",
       "    .dataframe thead th {\n",
       "        text-align: right;\n",
       "    }\n",
       "</style>\n",
       "<table border=\"1\" class=\"dataframe\">\n",
       "  <thead>\n",
       "    <tr style=\"text-align: right;\">\n",
       "      <th></th>\n",
       "      <th>Pressure_1</th>\n",
       "      <th>Pressure_2</th>\n",
       "      <th>input_state</th>\n",
       "      <th>feedback_state</th>\n",
       "      <th>labels</th>\n",
       "    </tr>\n",
       "  </thead>\n",
       "  <tbody>\n",
       "    <tr>\n",
       "      <th>count</th>\n",
       "      <td>12000.000000</td>\n",
       "      <td>12000.000000</td>\n",
       "      <td>12000.000000</td>\n",
       "      <td>12000.000000</td>\n",
       "      <td>12000.000000</td>\n",
       "    </tr>\n",
       "    <tr>\n",
       "      <th>mean</th>\n",
       "      <td>53.226358</td>\n",
       "      <td>40.009341</td>\n",
       "      <td>0.500000</td>\n",
       "      <td>0.500000</td>\n",
       "      <td>2.500000</td>\n",
       "    </tr>\n",
       "    <tr>\n",
       "      <th>std</th>\n",
       "      <td>12.860401</td>\n",
       "      <td>21.542753</td>\n",
       "      <td>0.500021</td>\n",
       "      <td>0.500021</td>\n",
       "      <td>1.707896</td>\n",
       "    </tr>\n",
       "    <tr>\n",
       "      <th>min</th>\n",
       "      <td>20.454422</td>\n",
       "      <td>0.000000</td>\n",
       "      <td>0.000000</td>\n",
       "      <td>0.000000</td>\n",
       "      <td>0.000000</td>\n",
       "    </tr>\n",
       "    <tr>\n",
       "      <th>25%</th>\n",
       "      <td>45.692133</td>\n",
       "      <td>30.064741</td>\n",
       "      <td>0.000000</td>\n",
       "      <td>0.000000</td>\n",
       "      <td>1.000000</td>\n",
       "    </tr>\n",
       "    <tr>\n",
       "      <th>50%</th>\n",
       "      <td>53.420383</td>\n",
       "      <td>45.058382</td>\n",
       "      <td>0.500000</td>\n",
       "      <td>0.500000</td>\n",
       "      <td>2.500000</td>\n",
       "    </tr>\n",
       "    <tr>\n",
       "      <th>75%</th>\n",
       "      <td>63.660509</td>\n",
       "      <td>54.631483</td>\n",
       "      <td>1.000000</td>\n",
       "      <td>1.000000</td>\n",
       "      <td>4.000000</td>\n",
       "    </tr>\n",
       "    <tr>\n",
       "      <th>max</th>\n",
       "      <td>74.992255</td>\n",
       "      <td>74.998036</td>\n",
       "      <td>1.000000</td>\n",
       "      <td>1.000000</td>\n",
       "      <td>5.000000</td>\n",
       "    </tr>\n",
       "  </tbody>\n",
       "</table>\n",
       "</div>"
      ],
      "text/plain": [
       "         Pressure_1    Pressure_2   input_state  feedback_state        labels\n",
       "count  12000.000000  12000.000000  12000.000000    12000.000000  12000.000000\n",
       "mean      53.226358     40.009341      0.500000        0.500000      2.500000\n",
       "std       12.860401     21.542753      0.500021        0.500021      1.707896\n",
       "min       20.454422      0.000000      0.000000        0.000000      0.000000\n",
       "25%       45.692133     30.064741      0.000000        0.000000      1.000000\n",
       "50%       53.420383     45.058382      0.500000        0.500000      2.500000\n",
       "75%       63.660509     54.631483      1.000000        1.000000      4.000000\n",
       "max       74.992255     74.998036      1.000000        1.000000      5.000000"
      ]
     },
     "execution_count": 8,
     "metadata": {},
     "output_type": "execute_result"
    }
   ],
   "source": [
    "df.describe()"
   ]
  },
  {
   "cell_type": "code",
   "execution_count": 9,
   "metadata": {
    "ExecuteTime": {
     "end_time": "2020-10-31T19:22:17.201985Z",
     "start_time": "2020-10-31T19:22:17.107767Z"
    }
   },
   "outputs": [],
   "source": [
    "mech_state_labels = df.to_csv('../data/mech_state_labels.csv',index=False)"
   ]
  },
  {
   "cell_type": "code",
   "execution_count": null,
   "metadata": {},
   "outputs": [],
   "source": []
  }
 ],
 "metadata": {
  "hide_input": false,
  "kernelspec": {
   "display_name": "Python 3.7.7 64-bit",
   "language": "python",
   "name": "python37764bitf76a6bfd7e0d4b2b89eadbc14f63bab5"
  },
  "language_info": {
   "codemirror_mode": {
    "name": "ipython",
    "version": 3
   },
   "file_extension": ".py",
   "mimetype": "text/x-python",
   "name": "python",
   "nbconvert_exporter": "python",
   "pygments_lexer": "ipython3",
   "version": "3.8.6"
  },
  "toc": {
   "base_numbering": 1,
   "nav_menu": {},
   "number_sections": true,
   "sideBar": true,
   "skip_h1_title": false,
   "title_cell": "Table of Contents",
   "title_sidebar": "Contents",
   "toc_cell": false,
   "toc_position": {},
   "toc_section_display": true,
   "toc_window_display": false
  },
  "varInspector": {
   "cols": {
    "lenName": 16,
    "lenType": 16,
    "lenVar": 40
   },
   "kernels_config": {
    "python": {
     "delete_cmd_postfix": "",
     "delete_cmd_prefix": "del ",
     "library": "var_list.py",
     "varRefreshCmd": "print(var_dic_list())"
    },
    "r": {
     "delete_cmd_postfix": ") ",
     "delete_cmd_prefix": "rm(",
     "library": "var_list.r",
     "varRefreshCmd": "cat(var_dic_list()) "
    }
   },
   "types_to_exclude": [
    "module",
    "function",
    "builtin_function_or_method",
    "instance",
    "_Feature"
   ],
   "window_display": false
  }
 },
 "nbformat": 4,
 "nbformat_minor": 4
}
