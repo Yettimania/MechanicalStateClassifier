{
 "cells": [
  {
   "cell_type": "markdown",
   "metadata": {},
   "source": [
    " # Overview\n",
    " \n",
    " This project will classify a number of states in time series data for a mechanical system. We'll review the system and conlude the various operating states. These will vary from normal operation to diagnosing failure states. Why is this important? Failure diagnositics in many industries are often done my an individual and it takes substantial time to conclude the cause of failure. This accrues costs and downtime on equipment. We can build a model to review a window of data and provide probabilites on what the most likely failure mode was immediatly! This can greatly hone in on a particular problem to solve saving substantial time in resolving the failure on mechanical equipment."
   ]
  },
  {
   "cell_type": "markdown",
   "metadata": {
    "ExecuteTime": {
     "end_time": "2020-10-28T21:24:57.028945Z",
     "start_time": "2020-10-28T21:24:57.026674Z"
    }
   },
   "source": [
    "## Operating Parameters\n",
    "\n",
    "In this example we'll look at a solenoid valve in a fluid control system. This valve is remotely controlled to be open or closed allowing fluid to flow through. In this example, we'll assume we only want flow in one direction.\n",
    "\n",
    "It is not uncommon during engineering design phases to develop FMECA (Failure Mode, Effects & Criticality Analysis) covering all the potential failure models for a device or system. We can use this to our advantage and generate what the data would look like to build a classifier. If we want the flow to only go in one direction, image this valve was installed in a system that had dirty fluid and was prone to reverse pressurizastion due to downstream anomolies. It wouldn't be uncommon in a 'dirty' application for the valve to become stuck at some point. Therefore, imagine we had a feedback sensor to return the current state of the valve. We'll use binary classifiers for open and closed but if we see a disagreeance between these two readings, we'd know the valve is not in the position we want.\n",
    "\n",
    "We'll do a multi-class model to identify:\n",
    "\n",
    "1. Normally Open\n",
    "2. Normally Close\n",
    "3. Reverse Pressure Open\n",
    "2. Reverse Pressure Close\n",
    "3. Stuck Open\n",
    "4. Stuck Closed\n",
    "\n",
    "We'll use a rule based system we understand to generate the data. This can be expanded to much more complex systems and data. \n",
    "\n",
    "The conditions for this application will be:\n",
    "\n",
    "- P1 between 45-75 PSI\n",
    "- P2 between 25-55 PSI\n",
    "- Inpute State - 0 or 1\n",
    "- Feedback State - 0 or 1"
   ]
  },
  {
   "cell_type": "markdown",
   "metadata": {},
   "source": [
    "### Generate Normal Open Operating Data\n",
    "\n",
    "What classifies as 'Normal'? In this case, because our valve is intended to be uni-directional, our upstream pressure should always be greater than our down stream. Secondly, during normal operation, the valve position and feedback would be identical as 0==0 for closed or 1==1 for open."
   ]
  },
  {
   "cell_type": "code",
   "execution_count": 1,
   "metadata": {
    "ExecuteTime": {
     "end_time": "2020-10-29T21:24:14.968743Z",
     "start_time": "2020-10-29T21:24:14.955412Z"
    }
   },
   "outputs": [],
   "source": [
    "# Define the length of this data set.\n",
    "import random\n",
    "\n",
    "DATA_SET_SIZE = 500\n",
    "pressure_1 = []\n",
    "pressure_2 = []\n",
    "input_state = []\n",
    "feedback_state = []\n",
    "labels = []\n",
    "\n",
    "# LABELINNG SCHEME\n",
    "NORMAL_OPEN = 0\n",
    "NORMAL_CLOSE = 1\n",
    "REV_PRESSURE_OPEN = 2\n",
    "REV_PRESSURE_CLOSE = 3\n",
    "STUCK_OPEN = 4\n",
    "STUCK_CLOSED = 5\n",
    "\n",
    "for index in range(DATA_SET_SIZE):\n",
    "        pressure = random.uniform(45,75)\n",
    "        #state = random.randint(0,1)\n",
    "        state = 1\n",
    "        \n",
    "        pressure_1.append(pressure)\n",
    "        pressure_2.append(pressure-20-random.uniform(-5.0,5.0))\n",
    "        input_state.append(state)\n",
    "        feedback_state.append(state)\n",
    "        labels.append(NORMAL_OPEN)\n",
    "        \n",
    "        \n",
    "print( '\\n'.join([\n",
    "    f'Length of Generated Data: {len(pressure_1)}',\n",
    "    f'Pressure_1[0]: {pressure_1[0]}',\n",
    "    f'Pressure_2[0]: {pressure_2[0]}',\n",
    "    f'Input_state[0]: {input_state[0]}',\n",
    "    f'Feedback_State[0]: {feedback_state[0]}',\n",
    "    f'Label[0]: {labels[0]}'\n",
    "]))\n",
    "        "
   ]
  },
  {
   "cell_type": "markdown",
   "metadata": {
    "ExecuteTime": {
     "end_time": "2020-10-29T20:56:13.851446Z",
     "start_time": "2020-10-29T20:56:13.847859Z"
    }
   },
   "source": [
    "### Generate Normal Closed Operating Data\n",
    "\n",
    "In this case, we'll simply switch the `state=0` and set pressure_2 equal to zero."
   ]
  },
  {
   "cell_type": "code",
   "execution_count": 2,
   "metadata": {
    "ExecuteTime": {
     "end_time": "2020-10-29T21:24:14.997632Z",
     "start_time": "2020-10-29T21:24:14.970364Z"
    }
   },
   "outputs": [],
   "source": [
    "for index in range(DATA_SET_SIZE):\n",
    "        pressure = random.uniform(45,75)\n",
    "        #state = random.randint(0,1)\n",
    "        state = 0\n",
    "        \n",
    "        pressure_1.append(pressure)\n",
    "        pressure_2.append(0.0)\n",
    "        input_state.append(state)\n",
    "        feedback_state.append(state)\n",
    "        labels.append(NORMAL_CLOSE)\n",
    "        \n",
    "        \n",
    "print( '\\n'.join([\n",
    "    f'Length of Generated Data: {len(pressure_1)}',\n",
    "    f'Pressure_1[500]: {pressure_1[500]}',\n",
    "    f'Pressure_2[500]: {pressure_2[500]}',\n",
    "    f'Input_state[500]: {input_state[500]}',\n",
    "    f'Feedback_State[500]: {feedback_state[500]}',\n",
    "    f'Label[500]: {labels[500]}'\n",
    "]))\n",
    "        "
   ]
  },
  {
   "cell_type": "markdown",
   "metadata": {},
   "source": [
    "### Generate Rev Pressure Open Operating Data\n",
    "\n",
    "We need to make P2 > P1 and set the state to 1 for open. Adjusting the label as required."
   ]
  },
  {
   "cell_type": "code",
   "execution_count": 3,
   "metadata": {
    "ExecuteTime": {
     "end_time": "2020-10-29T21:24:15.005165Z",
     "start_time": "2020-10-29T21:24:14.999411Z"
    }
   },
   "outputs": [],
   "source": [
    "for index in range(DATA_SET_SIZE):\n",
    "        pressure = random.uniform(45,75)\n",
    "        #state = random.randint(0,1)\n",
    "        state = 1\n",
    "        \n",
    "        pressure_2.append(pressure)\n",
    "        pressure_1.append(pressure-20-random.uniform(-5.0,5.0))\n",
    "        input_state.append(state)\n",
    "        feedback_state.append(state)\n",
    "        labels.append(REV_PRESSURE_OPEN)\n",
    "        \n",
    "        \n",
    "print( '\\n'.join([\n",
    "    f'Length of Generated Data: {len(pressure_1)}',\n",
    "    f'Pressure_1[1000]: {pressure_1[1000]}',\n",
    "    f'Pressure_2[1000]: {pressure_2[1000]}',\n",
    "    f'Input_state[1000]: {input_state[1000]}',\n",
    "    f'Feedback_State[1000]: {feedback_state[1000]}',\n",
    "    f'Label[1000]: {labels[1000]}'\n",
    "]))"
   ]
  },
  {
   "cell_type": "markdown",
   "metadata": {},
   "source": [
    "### Generate Rev Pressure Close Operating Data\n",
    "\n",
    "We will switch the state to 0 and update the label."
   ]
  },
  {
   "cell_type": "code",
   "execution_count": 4,
   "metadata": {
    "ExecuteTime": {
     "end_time": "2020-10-29T21:24:15.013334Z",
     "start_time": "2020-10-29T21:24:15.006948Z"
    }
   },
   "outputs": [],
   "source": [
    "for index in range(DATA_SET_SIZE):\n",
    "        pressure = random.uniform(45,75)\n",
    "        #state = random.randint(0,1)\n",
    "        state = 0\n",
    "        \n",
    "        pressure_2.append(pressure)\n",
    "        pressure_1.append(pressure-20-random.uniform(-5.0,5.0))\n",
    "        input_state.append(state)\n",
    "        feedback_state.append(state)\n",
    "        labels.append(REV_PRESSURE_CLOSE)\n",
    "        \n",
    "        \n",
    "print( '\\n'.join([\n",
    "    f'Length of Generated Data: {len(pressure_1)}',\n",
    "    f'Pressure_1[1500]: {pressure_1[1500]}',\n",
    "    f'Pressure_2[1500]: {pressure_2[1500]}',\n",
    "    f'Input_state[1500]: {input_state[1500]}',\n",
    "    f'Feedback_State[1500]: {feedback_state[1500]}',\n",
    "    f'Label[1500]: {labels[1500]}'\n",
    "]))"
   ]
  },
  {
   "cell_type": "markdown",
   "metadata": {
    "ExecuteTime": {
     "end_time": "2020-10-29T21:09:25.596310Z",
     "start_time": "2020-10-29T21:09:25.594182Z"
    }
   },
   "source": [
    "### Generate Stuck Open Data\n",
    "\n",
    "Stuck open occures when the `input_state = 0` and the `feedback_state` is the opposite."
   ]
  },
  {
   "cell_type": "code",
   "execution_count": 5,
   "metadata": {
    "ExecuteTime": {
     "end_time": "2020-10-29T21:24:15.022409Z",
     "start_time": "2020-10-29T21:24:15.017258Z"
    }
   },
   "outputs": [
    {
     "name": "stdout",
     "output_type": "stream",
     "text": [
      "Length of Generated Data: 2500\n",
      "Pressure_1[2000]: 52.02954094030909\n",
      "Pressure_2[2000]: 32.62903907954743\n",
      "Input_state[2000]: 0\n",
      "Feedback_State[2000]: 1\n",
      "Label[2000]: 4\n"
     ]
    }
   ],
   "source": [
    "for index in range(DATA_SET_SIZE):\n",
    "        pressure = random.uniform(45,75)\n",
    "        #state = random.randint(0,1)\n",
    "        state = 0\n",
    "        \n",
    "        pressure_1.append(pressure)\n",
    "        pressure_2.append(pressure-20-random.uniform(-5.0,5.0))\n",
    "        input_state.append(state)\n",
    "        feedback_state.append(state+1)\n",
    "        labels.append(STUCK_OPEN)\n",
    "        \n",
    "        \n",
    "print( '\\n'.join([\n",
    "    f'Length of Generated Data: {len(pressure_1)}',\n",
    "    f'Pressure_1[2000]: {pressure_1[2000]}',\n",
    "    f'Pressure_2[2000]: {pressure_2[2000]}',\n",
    "    f'Input_state[2000]: {input_state[2000]}',\n",
    "    f'Feedback_State[2000]: {feedback_state[2000]}',\n",
    "    f'Label[2000]: {labels[2000]}'\n",
    "]))"
   ]
  },
  {
   "cell_type": "markdown",
   "metadata": {},
   "source": [
    "### Generate Stuck Closed Data\n",
    "\n",
    "Lastly, we'll inverse the step taken in the above section."
   ]
  },
  {
   "cell_type": "code",
   "execution_count": 6,
   "metadata": {
    "ExecuteTime": {
     "end_time": "2020-10-29T21:24:15.029986Z",
     "start_time": "2020-10-29T21:24:15.024668Z"
    }
   },
   "outputs": [
    {
     "name": "stdout",
     "output_type": "stream",
     "text": [
      "Length of Generated Data: 3000\n",
      "Pressure_1[2500]: 61.26845021614811\n",
      "Pressure_2[2500]: 43.07418306573186\n",
      "Input_state[2500]: 1\n",
      "Feedback_State[2500]: 0\n",
      "Label[2500]: 5\n"
     ]
    }
   ],
   "source": [
    "for index in range(DATA_SET_SIZE):\n",
    "        pressure = random.uniform(45,75)\n",
    "        #state = random.randint(0,1)\n",
    "        state = 1\n",
    "        \n",
    "        pressure_1.append(pressure)\n",
    "        pressure_2.append(pressure-20-random.uniform(-5.0,5.0))\n",
    "        input_state.append(state)\n",
    "        feedback_state.append(state-1)\n",
    "        labels.append(STUCK_CLOSED)\n",
    "        \n",
    "        \n",
    "print( '\\n'.join([\n",
    "    f'Length of Generated Data: {len(pressure_1)}',\n",
    "    f'Pressure_1[2500]: {pressure_1[2500]}',\n",
    "    f'Pressure_2[2500]: {pressure_2[2500]}',\n",
    "    f'Input_state[2500]: {input_state[2500]}',\n",
    "    f'Feedback_State[2500]: {feedback_state[2500]}',\n",
    "    f'Label[2500]: {labels[2500]}'\n",
    "]))"
   ]
  },
  {
   "cell_type": "markdown",
   "metadata": {},
   "source": [
    "Now we've created a 2500 dataset for various states of the valve that are labeled with the 6 variations of operation. We'll then form this into a table and export it so we don't  have to recreate datasets when generating the model."
   ]
  },
  {
   "cell_type": "code",
   "execution_count": 7,
   "metadata": {
    "ExecuteTime": {
     "end_time": "2020-10-29T21:24:15.575762Z",
     "start_time": "2020-10-29T21:24:15.031859Z"
    }
   },
   "outputs": [
    {
     "data": {
      "text/html": [
       "<div>\n",
       "<style scoped>\n",
       "    .dataframe tbody tr th:only-of-type {\n",
       "        vertical-align: middle;\n",
       "    }\n",
       "\n",
       "    .dataframe tbody tr th {\n",
       "        vertical-align: top;\n",
       "    }\n",
       "\n",
       "    .dataframe thead th {\n",
       "        text-align: right;\n",
       "    }\n",
       "</style>\n",
       "<table border=\"1\" class=\"dataframe\">\n",
       "  <thead>\n",
       "    <tr style=\"text-align: right;\">\n",
       "      <th></th>\n",
       "      <th>Pressure_1</th>\n",
       "      <th>Pressure_2</th>\n",
       "      <th>input_state</th>\n",
       "      <th>feedback_state</th>\n",
       "      <th>labels</th>\n",
       "    </tr>\n",
       "  </thead>\n",
       "  <tbody>\n",
       "    <tr>\n",
       "      <th>0</th>\n",
       "      <td>65.664414</td>\n",
       "      <td>48.423782</td>\n",
       "      <td>1</td>\n",
       "      <td>1</td>\n",
       "      <td>0</td>\n",
       "    </tr>\n",
       "    <tr>\n",
       "      <th>1</th>\n",
       "      <td>51.561815</td>\n",
       "      <td>28.094194</td>\n",
       "      <td>1</td>\n",
       "      <td>1</td>\n",
       "      <td>0</td>\n",
       "    </tr>\n",
       "    <tr>\n",
       "      <th>2</th>\n",
       "      <td>54.225656</td>\n",
       "      <td>31.697366</td>\n",
       "      <td>1</td>\n",
       "      <td>1</td>\n",
       "      <td>0</td>\n",
       "    </tr>\n",
       "    <tr>\n",
       "      <th>3</th>\n",
       "      <td>56.346204</td>\n",
       "      <td>33.172950</td>\n",
       "      <td>1</td>\n",
       "      <td>1</td>\n",
       "      <td>0</td>\n",
       "    </tr>\n",
       "    <tr>\n",
       "      <th>4</th>\n",
       "      <td>73.243736</td>\n",
       "      <td>54.743206</td>\n",
       "      <td>1</td>\n",
       "      <td>1</td>\n",
       "      <td>0</td>\n",
       "    </tr>\n",
       "  </tbody>\n",
       "</table>\n",
       "</div>"
      ],
      "text/plain": [
       "   Pressure_1  Pressure_2  input_state  feedback_state  labels\n",
       "0   65.664414   48.423782            1               1       0\n",
       "1   51.561815   28.094194            1               1       0\n",
       "2   54.225656   31.697366            1               1       0\n",
       "3   56.346204   33.172950            1               1       0\n",
       "4   73.243736   54.743206            1               1       0"
      ]
     },
     "execution_count": 7,
     "metadata": {},
     "output_type": "execute_result"
    }
   ],
   "source": [
    "import pandas as pd\n",
    "df = pd.DataFrame({'Pressure_1':pressure_1,'Pressure_2':pressure_2,'input_state':input_state,\n",
    "                  'feedback_state':feedback_state,'labels':labels})\n",
    "df.head(5)"
   ]
  },
  {
   "cell_type": "code",
   "execution_count": 9,
   "metadata": {
    "ExecuteTime": {
     "end_time": "2020-10-29T21:24:30.299060Z",
     "start_time": "2020-10-29T21:24:30.269371Z"
    }
   },
   "outputs": [
    {
     "data": {
      "text/html": [
       "<div>\n",
       "<style scoped>\n",
       "    .dataframe tbody tr th:only-of-type {\n",
       "        vertical-align: middle;\n",
       "    }\n",
       "\n",
       "    .dataframe tbody tr th {\n",
       "        vertical-align: top;\n",
       "    }\n",
       "\n",
       "    .dataframe thead th {\n",
       "        text-align: right;\n",
       "    }\n",
       "</style>\n",
       "<table border=\"1\" class=\"dataframe\">\n",
       "  <thead>\n",
       "    <tr style=\"text-align: right;\">\n",
       "      <th></th>\n",
       "      <th>Pressure_1</th>\n",
       "      <th>Pressure_2</th>\n",
       "      <th>input_state</th>\n",
       "      <th>feedback_state</th>\n",
       "      <th>labels</th>\n",
       "    </tr>\n",
       "  </thead>\n",
       "  <tbody>\n",
       "    <tr>\n",
       "      <th>count</th>\n",
       "      <td>3000.000000</td>\n",
       "      <td>3000.000000</td>\n",
       "      <td>3000.000000</td>\n",
       "      <td>3000.000000</td>\n",
       "      <td>3000.00000</td>\n",
       "    </tr>\n",
       "    <tr>\n",
       "      <th>mean</th>\n",
       "      <td>53.233394</td>\n",
       "      <td>40.051718</td>\n",
       "      <td>0.500000</td>\n",
       "      <td>0.500000</td>\n",
       "      <td>2.50000</td>\n",
       "    </tr>\n",
       "    <tr>\n",
       "      <th>std</th>\n",
       "      <td>12.915072</td>\n",
       "      <td>21.569203</td>\n",
       "      <td>0.500083</td>\n",
       "      <td>0.500083</td>\n",
       "      <td>1.70811</td>\n",
       "    </tr>\n",
       "    <tr>\n",
       "      <th>min</th>\n",
       "      <td>20.922138</td>\n",
       "      <td>0.000000</td>\n",
       "      <td>0.000000</td>\n",
       "      <td>0.000000</td>\n",
       "      <td>0.00000</td>\n",
       "    </tr>\n",
       "    <tr>\n",
       "      <th>25%</th>\n",
       "      <td>45.910129</td>\n",
       "      <td>30.048253</td>\n",
       "      <td>0.000000</td>\n",
       "      <td>0.000000</td>\n",
       "      <td>1.00000</td>\n",
       "    </tr>\n",
       "    <tr>\n",
       "      <th>50%</th>\n",
       "      <td>53.382312</td>\n",
       "      <td>45.324478</td>\n",
       "      <td>0.500000</td>\n",
       "      <td>0.500000</td>\n",
       "      <td>2.50000</td>\n",
       "    </tr>\n",
       "    <tr>\n",
       "      <th>75%</th>\n",
       "      <td>64.005474</td>\n",
       "      <td>54.704766</td>\n",
       "      <td>1.000000</td>\n",
       "      <td>1.000000</td>\n",
       "      <td>4.00000</td>\n",
       "    </tr>\n",
       "    <tr>\n",
       "      <th>max</th>\n",
       "      <td>74.981237</td>\n",
       "      <td>74.995811</td>\n",
       "      <td>1.000000</td>\n",
       "      <td>1.000000</td>\n",
       "      <td>5.00000</td>\n",
       "    </tr>\n",
       "  </tbody>\n",
       "</table>\n",
       "</div>"
      ],
      "text/plain": [
       "        Pressure_1   Pressure_2  input_state  feedback_state      labels\n",
       "count  3000.000000  3000.000000  3000.000000     3000.000000  3000.00000\n",
       "mean     53.233394    40.051718     0.500000        0.500000     2.50000\n",
       "std      12.915072    21.569203     0.500083        0.500083     1.70811\n",
       "min      20.922138     0.000000     0.000000        0.000000     0.00000\n",
       "25%      45.910129    30.048253     0.000000        0.000000     1.00000\n",
       "50%      53.382312    45.324478     0.500000        0.500000     2.50000\n",
       "75%      64.005474    54.704766     1.000000        1.000000     4.00000\n",
       "max      74.981237    74.995811     1.000000        1.000000     5.00000"
      ]
     },
     "execution_count": 9,
     "metadata": {},
     "output_type": "execute_result"
    }
   ],
   "source": [
    "df.describe()"
   ]
  },
  {
   "cell_type": "code",
   "execution_count": 10,
   "metadata": {
    "ExecuteTime": {
     "end_time": "2020-10-29T21:25:21.209115Z",
     "start_time": "2020-10-29T21:25:21.177688Z"
    }
   },
   "outputs": [],
   "source": [
    "mech_state_labels = df.to_csv('../data/mech_state_labels',index=False)"
   ]
  },
  {
   "cell_type": "code",
   "execution_count": null,
   "metadata": {},
   "outputs": [],
   "source": []
  }
 ],
 "metadata": {
  "hide_input": false,
  "kernelspec": {
   "display_name": "Python 3.7.7 64-bit",
   "language": "python",
   "name": "python37764bitf76a6bfd7e0d4b2b89eadbc14f63bab5"
  },
  "language_info": {
   "codemirror_mode": {
    "name": "ipython",
    "version": 3
   },
   "file_extension": ".py",
   "mimetype": "text/x-python",
   "name": "python",
   "nbconvert_exporter": "python",
   "pygments_lexer": "ipython3",
   "version": "3.8.6"
  },
  "toc": {
   "base_numbering": 1,
   "nav_menu": {},
   "number_sections": true,
   "sideBar": true,
   "skip_h1_title": false,
   "title_cell": "Table of Contents",
   "title_sidebar": "Contents",
   "toc_cell": false,
   "toc_position": {},
   "toc_section_display": true,
   "toc_window_display": false
  },
  "varInspector": {
   "cols": {
    "lenName": 16,
    "lenType": 16,
    "lenVar": 40
   },
   "kernels_config": {
    "python": {
     "delete_cmd_postfix": "",
     "delete_cmd_prefix": "del ",
     "library": "var_list.py",
     "varRefreshCmd": "print(var_dic_list())"
    },
    "r": {
     "delete_cmd_postfix": ") ",
     "delete_cmd_prefix": "rm(",
     "library": "var_list.r",
     "varRefreshCmd": "cat(var_dic_list()) "
    }
   },
   "types_to_exclude": [
    "module",
    "function",
    "builtin_function_or_method",
    "instance",
    "_Feature"
   ],
   "window_display": false
  }
 },
 "nbformat": 4,
 "nbformat_minor": 4
}
