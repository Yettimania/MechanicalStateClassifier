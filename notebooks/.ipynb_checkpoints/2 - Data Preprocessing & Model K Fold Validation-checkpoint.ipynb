{
 "cells": [
  {
   "cell_type": "markdown",
   "metadata": {},
   "source": [
    "# Importing the Data csv File"
   ]
  },
  {
   "cell_type": "code",
   "execution_count": 1,
   "metadata": {
    "ExecuteTime": {
     "end_time": "2020-10-31T19:22:28.137181Z",
     "start_time": "2020-10-31T19:22:27.618380Z"
    }
   },
   "outputs": [],
   "source": [
    "import pandas as pd\n",
    "\n",
    "\n",
    "csv_path = \"../data/mech_state_labels.csv\"\n",
    "df = pd.read_csv(csv_path)"
   ]
  },
  {
   "cell_type": "code",
   "execution_count": 2,
   "metadata": {
    "ExecuteTime": {
     "end_time": "2020-10-31T19:22:28.162159Z",
     "start_time": "2020-10-31T19:22:28.139672Z"
    }
   },
   "outputs": [
    {
     "name": "stdout",
     "output_type": "stream",
     "text": [
      "60000\n"
     ]
    },
    {
     "data": {
      "text/html": [
       "<div>\n",
       "<style scoped>\n",
       "    .dataframe tbody tr th:only-of-type {\n",
       "        vertical-align: middle;\n",
       "    }\n",
       "\n",
       "    .dataframe tbody tr th {\n",
       "        vertical-align: top;\n",
       "    }\n",
       "\n",
       "    .dataframe thead th {\n",
       "        text-align: right;\n",
       "    }\n",
       "</style>\n",
       "<table border=\"1\" class=\"dataframe\">\n",
       "  <thead>\n",
       "    <tr style=\"text-align: right;\">\n",
       "      <th></th>\n",
       "      <th>Pressure_1</th>\n",
       "      <th>Pressure_2</th>\n",
       "      <th>input_state</th>\n",
       "      <th>feedback_state</th>\n",
       "      <th>labels</th>\n",
       "    </tr>\n",
       "  </thead>\n",
       "  <tbody>\n",
       "    <tr>\n",
       "      <th>0</th>\n",
       "      <td>46.967110</td>\n",
       "      <td>24.612312</td>\n",
       "      <td>1</td>\n",
       "      <td>1</td>\n",
       "      <td>0</td>\n",
       "    </tr>\n",
       "    <tr>\n",
       "      <th>1</th>\n",
       "      <td>46.940347</td>\n",
       "      <td>31.196085</td>\n",
       "      <td>1</td>\n",
       "      <td>1</td>\n",
       "      <td>0</td>\n",
       "    </tr>\n",
       "    <tr>\n",
       "      <th>2</th>\n",
       "      <td>53.553435</td>\n",
       "      <td>35.161072</td>\n",
       "      <td>1</td>\n",
       "      <td>1</td>\n",
       "      <td>0</td>\n",
       "    </tr>\n",
       "    <tr>\n",
       "      <th>3</th>\n",
       "      <td>71.088936</td>\n",
       "      <td>52.947956</td>\n",
       "      <td>1</td>\n",
       "      <td>1</td>\n",
       "      <td>0</td>\n",
       "    </tr>\n",
       "    <tr>\n",
       "      <th>4</th>\n",
       "      <td>65.643129</td>\n",
       "      <td>46.005938</td>\n",
       "      <td>1</td>\n",
       "      <td>1</td>\n",
       "      <td>0</td>\n",
       "    </tr>\n",
       "  </tbody>\n",
       "</table>\n",
       "</div>"
      ],
      "text/plain": [
       "   Pressure_1  Pressure_2  input_state  feedback_state  labels\n",
       "0   46.967110   24.612312            1               1       0\n",
       "1   46.940347   31.196085            1               1       0\n",
       "2   53.553435   35.161072            1               1       0\n",
       "3   71.088936   52.947956            1               1       0\n",
       "4   65.643129   46.005938            1               1       0"
      ]
     },
     "execution_count": 2,
     "metadata": {},
     "output_type": "execute_result"
    }
   ],
   "source": [
    "print(df.size)\n",
    "df.head()"
   ]
  },
  {
   "cell_type": "markdown",
   "metadata": {},
   "source": [
    "The data was generated in sequence of the labels and therefore is not shuffled or randomized. We'll first shuffle the dataframe."
   ]
  },
  {
   "cell_type": "code",
   "execution_count": 3,
   "metadata": {
    "ExecuteTime": {
     "end_time": "2020-10-31T19:22:28.287737Z",
     "start_time": "2020-10-31T19:22:28.165042Z"
    }
   },
   "outputs": [
    {
     "name": "stdout",
     "output_type": "stream",
     "text": [
      "(12000, 5)\n"
     ]
    }
   ],
   "source": [
    "df = df.sample(frac = 1)\n",
    "df.head(10)\n",
    "print(df.shape)"
   ]
  },
  {
   "cell_type": "markdown",
   "metadata": {
    "ExecuteTime": {
     "end_time": "2020-10-29T21:52:06.269739Z",
     "start_time": "2020-10-29T21:52:06.267491Z"
    }
   },
   "source": [
    "# Normalize Data\n",
    "\n",
    "Now we'll normalize the two pressure columns using sklearn."
   ]
  },
  {
   "cell_type": "code",
   "execution_count": 4,
   "metadata": {
    "ExecuteTime": {
     "end_time": "2020-10-31T19:22:29.052240Z",
     "start_time": "2020-10-31T19:22:28.296021Z"
    }
   },
   "outputs": [],
   "source": [
    "# Normalize Pressure 1\n",
    "\n",
    "from sklearn import preprocessing\n",
    "\n",
    "p1 = df[['Pressure_1']].values.astype(float)\n",
    "p2 = df[['Pressure_2']].values.astype(float)\n",
    "\n",
    "# Create a min max processor object\n",
    "min_max_scaler = preprocessing.MinMaxScaler()\n",
    "\n",
    "norm_p1 = min_max_scaler.fit_transform(p1)\n",
    "norm_p2 = min_max_scaler.fit_transform(p2)\n",
    "\n",
    "df['Pressure_1'] = norm_p1\n",
    "df['Pressure_2'] = norm_p2\n"
   ]
  },
  {
   "cell_type": "code",
   "execution_count": 5,
   "metadata": {
    "ExecuteTime": {
     "end_time": "2020-10-31T19:22:29.070815Z",
     "start_time": "2020-10-31T19:22:29.053852Z"
    }
   },
   "outputs": [
    {
     "data": {
      "text/html": [
       "<div>\n",
       "<style scoped>\n",
       "    .dataframe tbody tr th:only-of-type {\n",
       "        vertical-align: middle;\n",
       "    }\n",
       "\n",
       "    .dataframe tbody tr th {\n",
       "        vertical-align: top;\n",
       "    }\n",
       "\n",
       "    .dataframe thead th {\n",
       "        text-align: right;\n",
       "    }\n",
       "</style>\n",
       "<table border=\"1\" class=\"dataframe\">\n",
       "  <thead>\n",
       "    <tr style=\"text-align: right;\">\n",
       "      <th></th>\n",
       "      <th>Pressure_1</th>\n",
       "      <th>Pressure_2</th>\n",
       "      <th>input_state</th>\n",
       "      <th>feedback_state</th>\n",
       "      <th>labels</th>\n",
       "    </tr>\n",
       "  </thead>\n",
       "  <tbody>\n",
       "    <tr>\n",
       "      <th>1322</th>\n",
       "      <td>0.872731</td>\n",
       "      <td>0.668364</td>\n",
       "      <td>1</td>\n",
       "      <td>1</td>\n",
       "      <td>0</td>\n",
       "    </tr>\n",
       "    <tr>\n",
       "      <th>344</th>\n",
       "      <td>0.822173</td>\n",
       "      <td>0.645789</td>\n",
       "      <td>1</td>\n",
       "      <td>1</td>\n",
       "      <td>0</td>\n",
       "    </tr>\n",
       "    <tr>\n",
       "      <th>7898</th>\n",
       "      <td>0.529029</td>\n",
       "      <td>0.979170</td>\n",
       "      <td>0</td>\n",
       "      <td>0</td>\n",
       "      <td>3</td>\n",
       "    </tr>\n",
       "    <tr>\n",
       "      <th>8819</th>\n",
       "      <td>0.830524</td>\n",
       "      <td>0.547233</td>\n",
       "      <td>0</td>\n",
       "      <td>1</td>\n",
       "      <td>4</td>\n",
       "    </tr>\n",
       "    <tr>\n",
       "      <th>5384</th>\n",
       "      <td>0.132070</td>\n",
       "      <td>0.649368</td>\n",
       "      <td>1</td>\n",
       "      <td>1</td>\n",
       "      <td>2</td>\n",
       "    </tr>\n",
       "    <tr>\n",
       "      <th>10753</th>\n",
       "      <td>0.647535</td>\n",
       "      <td>0.448119</td>\n",
       "      <td>1</td>\n",
       "      <td>0</td>\n",
       "      <td>5</td>\n",
       "    </tr>\n",
       "    <tr>\n",
       "      <th>6541</th>\n",
       "      <td>0.318198</td>\n",
       "      <td>0.729967</td>\n",
       "      <td>0</td>\n",
       "      <td>0</td>\n",
       "      <td>3</td>\n",
       "    </tr>\n",
       "    <tr>\n",
       "      <th>1583</th>\n",
       "      <td>0.780146</td>\n",
       "      <td>0.578004</td>\n",
       "      <td>1</td>\n",
       "      <td>1</td>\n",
       "      <td>0</td>\n",
       "    </tr>\n",
       "    <tr>\n",
       "      <th>6571</th>\n",
       "      <td>0.169568</td>\n",
       "      <td>0.628471</td>\n",
       "      <td>0</td>\n",
       "      <td>0</td>\n",
       "      <td>3</td>\n",
       "    </tr>\n",
       "    <tr>\n",
       "      <th>3862</th>\n",
       "      <td>0.984059</td>\n",
       "      <td>0.000000</td>\n",
       "      <td>0</td>\n",
       "      <td>0</td>\n",
       "      <td>1</td>\n",
       "    </tr>\n",
       "  </tbody>\n",
       "</table>\n",
       "</div>"
      ],
      "text/plain": [
       "       Pressure_1  Pressure_2  input_state  feedback_state  labels\n",
       "1322     0.872731    0.668364            1               1       0\n",
       "344      0.822173    0.645789            1               1       0\n",
       "7898     0.529029    0.979170            0               0       3\n",
       "8819     0.830524    0.547233            0               1       4\n",
       "5384     0.132070    0.649368            1               1       2\n",
       "10753    0.647535    0.448119            1               0       5\n",
       "6541     0.318198    0.729967            0               0       3\n",
       "1583     0.780146    0.578004            1               1       0\n",
       "6571     0.169568    0.628471            0               0       3\n",
       "3862     0.984059    0.000000            0               0       1"
      ]
     },
     "execution_count": 5,
     "metadata": {},
     "output_type": "execute_result"
    }
   ],
   "source": [
    "df.head(10)"
   ]
  },
  {
   "cell_type": "code",
   "execution_count": 6,
   "metadata": {
    "ExecuteTime": {
     "end_time": "2020-10-31T19:22:29.191878Z",
     "start_time": "2020-10-31T19:22:29.072732Z"
    }
   },
   "outputs": [
    {
     "data": {
      "text/plain": [
       "Pressure_1        float64\n",
       "Pressure_2        float64\n",
       "input_state         int64\n",
       "feedback_state      int64\n",
       "labels              int64\n",
       "dtype: object"
      ]
     },
     "execution_count": 6,
     "metadata": {},
     "output_type": "execute_result"
    }
   ],
   "source": [
    "df.dtypes"
   ]
  },
  {
   "cell_type": "code",
   "execution_count": 7,
   "metadata": {
    "ExecuteTime": {
     "end_time": "2020-10-31T19:22:29.355509Z",
     "start_time": "2020-10-31T19:22:29.193984Z"
    }
   },
   "outputs": [],
   "source": [
    "# Cast states as floats\n",
    "\n",
    "df['input_state'] = df['input_state'].astype(float)\n",
    "df['feedback_state'] = df['feedback_state'].astype(float)"
   ]
  },
  {
   "cell_type": "code",
   "execution_count": 8,
   "metadata": {
    "ExecuteTime": {
     "end_time": "2020-10-31T19:22:29.509248Z",
     "start_time": "2020-10-31T19:22:29.368004Z"
    }
   },
   "outputs": [
    {
     "data": {
      "text/html": [
       "<div>\n",
       "<style scoped>\n",
       "    .dataframe tbody tr th:only-of-type {\n",
       "        vertical-align: middle;\n",
       "    }\n",
       "\n",
       "    .dataframe tbody tr th {\n",
       "        vertical-align: top;\n",
       "    }\n",
       "\n",
       "    .dataframe thead th {\n",
       "        text-align: right;\n",
       "    }\n",
       "</style>\n",
       "<table border=\"1\" class=\"dataframe\">\n",
       "  <thead>\n",
       "    <tr style=\"text-align: right;\">\n",
       "      <th></th>\n",
       "      <th>Pressure_1</th>\n",
       "      <th>Pressure_2</th>\n",
       "      <th>input_state</th>\n",
       "      <th>feedback_state</th>\n",
       "      <th>labels</th>\n",
       "    </tr>\n",
       "  </thead>\n",
       "  <tbody>\n",
       "    <tr>\n",
       "      <th>1322</th>\n",
       "      <td>0.872731</td>\n",
       "      <td>0.668364</td>\n",
       "      <td>1.0</td>\n",
       "      <td>1.0</td>\n",
       "      <td>0</td>\n",
       "    </tr>\n",
       "    <tr>\n",
       "      <th>344</th>\n",
       "      <td>0.822173</td>\n",
       "      <td>0.645789</td>\n",
       "      <td>1.0</td>\n",
       "      <td>1.0</td>\n",
       "      <td>0</td>\n",
       "    </tr>\n",
       "    <tr>\n",
       "      <th>7898</th>\n",
       "      <td>0.529029</td>\n",
       "      <td>0.979170</td>\n",
       "      <td>0.0</td>\n",
       "      <td>0.0</td>\n",
       "      <td>3</td>\n",
       "    </tr>\n",
       "    <tr>\n",
       "      <th>8819</th>\n",
       "      <td>0.830524</td>\n",
       "      <td>0.547233</td>\n",
       "      <td>0.0</td>\n",
       "      <td>1.0</td>\n",
       "      <td>4</td>\n",
       "    </tr>\n",
       "    <tr>\n",
       "      <th>5384</th>\n",
       "      <td>0.132070</td>\n",
       "      <td>0.649368</td>\n",
       "      <td>1.0</td>\n",
       "      <td>1.0</td>\n",
       "      <td>2</td>\n",
       "    </tr>\n",
       "    <tr>\n",
       "      <th>10753</th>\n",
       "      <td>0.647535</td>\n",
       "      <td>0.448119</td>\n",
       "      <td>1.0</td>\n",
       "      <td>0.0</td>\n",
       "      <td>5</td>\n",
       "    </tr>\n",
       "    <tr>\n",
       "      <th>6541</th>\n",
       "      <td>0.318198</td>\n",
       "      <td>0.729967</td>\n",
       "      <td>0.0</td>\n",
       "      <td>0.0</td>\n",
       "      <td>3</td>\n",
       "    </tr>\n",
       "    <tr>\n",
       "      <th>1583</th>\n",
       "      <td>0.780146</td>\n",
       "      <td>0.578004</td>\n",
       "      <td>1.0</td>\n",
       "      <td>1.0</td>\n",
       "      <td>0</td>\n",
       "    </tr>\n",
       "    <tr>\n",
       "      <th>6571</th>\n",
       "      <td>0.169568</td>\n",
       "      <td>0.628471</td>\n",
       "      <td>0.0</td>\n",
       "      <td>0.0</td>\n",
       "      <td>3</td>\n",
       "    </tr>\n",
       "    <tr>\n",
       "      <th>3862</th>\n",
       "      <td>0.984059</td>\n",
       "      <td>0.000000</td>\n",
       "      <td>0.0</td>\n",
       "      <td>0.0</td>\n",
       "      <td>1</td>\n",
       "    </tr>\n",
       "  </tbody>\n",
       "</table>\n",
       "</div>"
      ],
      "text/plain": [
       "       Pressure_1  Pressure_2  input_state  feedback_state  labels\n",
       "1322     0.872731    0.668364          1.0             1.0       0\n",
       "344      0.822173    0.645789          1.0             1.0       0\n",
       "7898     0.529029    0.979170          0.0             0.0       3\n",
       "8819     0.830524    0.547233          0.0             1.0       4\n",
       "5384     0.132070    0.649368          1.0             1.0       2\n",
       "10753    0.647535    0.448119          1.0             0.0       5\n",
       "6541     0.318198    0.729967          0.0             0.0       3\n",
       "1583     0.780146    0.578004          1.0             1.0       0\n",
       "6571     0.169568    0.628471          0.0             0.0       3\n",
       "3862     0.984059    0.000000          0.0             0.0       1"
      ]
     },
     "execution_count": 8,
     "metadata": {},
     "output_type": "execute_result"
    }
   ],
   "source": [
    "df.head(10)"
   ]
  },
  {
   "cell_type": "code",
   "execution_count": 9,
   "metadata": {
    "ExecuteTime": {
     "end_time": "2020-10-31T19:22:29.661955Z",
     "start_time": "2020-10-31T19:22:29.512391Z"
    }
   },
   "outputs": [
    {
     "data": {
      "text/plain": [
       "Pressure_1        float64\n",
       "Pressure_2        float64\n",
       "input_state       float64\n",
       "feedback_state    float64\n",
       "labels              int64\n",
       "dtype: object"
      ]
     },
     "execution_count": 9,
     "metadata": {},
     "output_type": "execute_result"
    }
   ],
   "source": [
    "df.dtypes"
   ]
  },
  {
   "cell_type": "markdown",
   "metadata": {},
   "source": [
    "# One Shot Encoding"
   ]
  },
  {
   "cell_type": "code",
   "execution_count": 10,
   "metadata": {
    "ExecuteTime": {
     "end_time": "2020-10-31T19:22:31.876247Z",
     "start_time": "2020-10-31T19:22:29.666792Z"
    }
   },
   "outputs": [
    {
     "name": "stdout",
     "output_type": "stream",
     "text": [
      "12000\n",
      "[0 3 4 2 5 1]\n"
     ]
    }
   ],
   "source": [
    "import tensorflow as tf\n",
    "\n",
    "indices = len(df['labels'])\n",
    "depth = pd.Series(df['labels'].values).unique()\n",
    "print(indices)\n",
    "print(depth)\n"
   ]
  },
  {
   "cell_type": "code",
   "execution_count": 11,
   "metadata": {
    "ExecuteTime": {
     "end_time": "2020-10-31T19:22:31.881861Z",
     "start_time": "2020-10-31T19:22:31.877822Z"
    }
   },
   "outputs": [],
   "source": [
    "target_df = pd.get_dummies(df['labels'].values)\n",
    "\n",
    "#target = preprocessing.LabelBinarizer()\n",
    "#target.fit(depth)\n",
    "#target.classes_"
   ]
  },
  {
   "cell_type": "code",
   "execution_count": 12,
   "metadata": {
    "ExecuteTime": {
     "end_time": "2020-10-31T19:22:32.002419Z",
     "start_time": "2020-10-31T19:22:31.883709Z"
    }
   },
   "outputs": [],
   "source": [
    "#target.transform(df['labels'])"
   ]
  },
  {
   "cell_type": "code",
   "execution_count": 13,
   "metadata": {
    "ExecuteTime": {
     "end_time": "2020-10-31T19:22:32.218801Z",
     "start_time": "2020-10-31T19:22:32.004536Z"
    }
   },
   "outputs": [],
   "source": [
    "#df['labels'] = target.transform(df['labels'])"
   ]
  },
  {
   "cell_type": "code",
   "execution_count": 14,
   "metadata": {
    "ExecuteTime": {
     "end_time": "2020-10-31T19:22:32.398231Z",
     "start_time": "2020-10-31T19:22:32.220572Z"
    }
   },
   "outputs": [
    {
     "data": {
      "text/html": [
       "<div>\n",
       "<style scoped>\n",
       "    .dataframe tbody tr th:only-of-type {\n",
       "        vertical-align: middle;\n",
       "    }\n",
       "\n",
       "    .dataframe tbody tr th {\n",
       "        vertical-align: top;\n",
       "    }\n",
       "\n",
       "    .dataframe thead th {\n",
       "        text-align: right;\n",
       "    }\n",
       "</style>\n",
       "<table border=\"1\" class=\"dataframe\">\n",
       "  <thead>\n",
       "    <tr style=\"text-align: right;\">\n",
       "      <th></th>\n",
       "      <th>Pressure_1</th>\n",
       "      <th>Pressure_2</th>\n",
       "      <th>input_state</th>\n",
       "      <th>feedback_state</th>\n",
       "      <th>labels</th>\n",
       "    </tr>\n",
       "  </thead>\n",
       "  <tbody>\n",
       "    <tr>\n",
       "      <th>1322</th>\n",
       "      <td>0.872731</td>\n",
       "      <td>0.668364</td>\n",
       "      <td>1.0</td>\n",
       "      <td>1.0</td>\n",
       "      <td>0</td>\n",
       "    </tr>\n",
       "    <tr>\n",
       "      <th>344</th>\n",
       "      <td>0.822173</td>\n",
       "      <td>0.645789</td>\n",
       "      <td>1.0</td>\n",
       "      <td>1.0</td>\n",
       "      <td>0</td>\n",
       "    </tr>\n",
       "    <tr>\n",
       "      <th>7898</th>\n",
       "      <td>0.529029</td>\n",
       "      <td>0.979170</td>\n",
       "      <td>0.0</td>\n",
       "      <td>0.0</td>\n",
       "      <td>3</td>\n",
       "    </tr>\n",
       "    <tr>\n",
       "      <th>8819</th>\n",
       "      <td>0.830524</td>\n",
       "      <td>0.547233</td>\n",
       "      <td>0.0</td>\n",
       "      <td>1.0</td>\n",
       "      <td>4</td>\n",
       "    </tr>\n",
       "    <tr>\n",
       "      <th>5384</th>\n",
       "      <td>0.132070</td>\n",
       "      <td>0.649368</td>\n",
       "      <td>1.0</td>\n",
       "      <td>1.0</td>\n",
       "      <td>2</td>\n",
       "    </tr>\n",
       "    <tr>\n",
       "      <th>10753</th>\n",
       "      <td>0.647535</td>\n",
       "      <td>0.448119</td>\n",
       "      <td>1.0</td>\n",
       "      <td>0.0</td>\n",
       "      <td>5</td>\n",
       "    </tr>\n",
       "    <tr>\n",
       "      <th>6541</th>\n",
       "      <td>0.318198</td>\n",
       "      <td>0.729967</td>\n",
       "      <td>0.0</td>\n",
       "      <td>0.0</td>\n",
       "      <td>3</td>\n",
       "    </tr>\n",
       "    <tr>\n",
       "      <th>1583</th>\n",
       "      <td>0.780146</td>\n",
       "      <td>0.578004</td>\n",
       "      <td>1.0</td>\n",
       "      <td>1.0</td>\n",
       "      <td>0</td>\n",
       "    </tr>\n",
       "    <tr>\n",
       "      <th>6571</th>\n",
       "      <td>0.169568</td>\n",
       "      <td>0.628471</td>\n",
       "      <td>0.0</td>\n",
       "      <td>0.0</td>\n",
       "      <td>3</td>\n",
       "    </tr>\n",
       "    <tr>\n",
       "      <th>3862</th>\n",
       "      <td>0.984059</td>\n",
       "      <td>0.000000</td>\n",
       "      <td>0.0</td>\n",
       "      <td>0.0</td>\n",
       "      <td>1</td>\n",
       "    </tr>\n",
       "  </tbody>\n",
       "</table>\n",
       "</div>"
      ],
      "text/plain": [
       "       Pressure_1  Pressure_2  input_state  feedback_state  labels\n",
       "1322     0.872731    0.668364          1.0             1.0       0\n",
       "344      0.822173    0.645789          1.0             1.0       0\n",
       "7898     0.529029    0.979170          0.0             0.0       3\n",
       "8819     0.830524    0.547233          0.0             1.0       4\n",
       "5384     0.132070    0.649368          1.0             1.0       2\n",
       "10753    0.647535    0.448119          1.0             0.0       5\n",
       "6541     0.318198    0.729967          0.0             0.0       3\n",
       "1583     0.780146    0.578004          1.0             1.0       0\n",
       "6571     0.169568    0.628471          0.0             0.0       3\n",
       "3862     0.984059    0.000000          0.0             0.0       1"
      ]
     },
     "execution_count": 14,
     "metadata": {},
     "output_type": "execute_result"
    }
   ],
   "source": [
    "df.head(10)"
   ]
  },
  {
   "cell_type": "code",
   "execution_count": 15,
   "metadata": {
    "ExecuteTime": {
     "end_time": "2020-10-31T19:22:32.552643Z",
     "start_time": "2020-10-31T19:22:32.400316Z"
    }
   },
   "outputs": [
    {
     "data": {
      "text/html": [
       "<div>\n",
       "<style scoped>\n",
       "    .dataframe tbody tr th:only-of-type {\n",
       "        vertical-align: middle;\n",
       "    }\n",
       "\n",
       "    .dataframe tbody tr th {\n",
       "        vertical-align: top;\n",
       "    }\n",
       "\n",
       "    .dataframe thead th {\n",
       "        text-align: right;\n",
       "    }\n",
       "</style>\n",
       "<table border=\"1\" class=\"dataframe\">\n",
       "  <thead>\n",
       "    <tr style=\"text-align: right;\">\n",
       "      <th></th>\n",
       "      <th>0</th>\n",
       "      <th>1</th>\n",
       "      <th>2</th>\n",
       "      <th>3</th>\n",
       "      <th>4</th>\n",
       "      <th>5</th>\n",
       "    </tr>\n",
       "  </thead>\n",
       "  <tbody>\n",
       "    <tr>\n",
       "      <th>0</th>\n",
       "      <td>1</td>\n",
       "      <td>0</td>\n",
       "      <td>0</td>\n",
       "      <td>0</td>\n",
       "      <td>0</td>\n",
       "      <td>0</td>\n",
       "    </tr>\n",
       "    <tr>\n",
       "      <th>1</th>\n",
       "      <td>1</td>\n",
       "      <td>0</td>\n",
       "      <td>0</td>\n",
       "      <td>0</td>\n",
       "      <td>0</td>\n",
       "      <td>0</td>\n",
       "    </tr>\n",
       "    <tr>\n",
       "      <th>2</th>\n",
       "      <td>0</td>\n",
       "      <td>0</td>\n",
       "      <td>0</td>\n",
       "      <td>1</td>\n",
       "      <td>0</td>\n",
       "      <td>0</td>\n",
       "    </tr>\n",
       "    <tr>\n",
       "      <th>3</th>\n",
       "      <td>0</td>\n",
       "      <td>0</td>\n",
       "      <td>0</td>\n",
       "      <td>0</td>\n",
       "      <td>1</td>\n",
       "      <td>0</td>\n",
       "    </tr>\n",
       "    <tr>\n",
       "      <th>4</th>\n",
       "      <td>0</td>\n",
       "      <td>0</td>\n",
       "      <td>1</td>\n",
       "      <td>0</td>\n",
       "      <td>0</td>\n",
       "      <td>0</td>\n",
       "    </tr>\n",
       "    <tr>\n",
       "      <th>5</th>\n",
       "      <td>0</td>\n",
       "      <td>0</td>\n",
       "      <td>0</td>\n",
       "      <td>0</td>\n",
       "      <td>0</td>\n",
       "      <td>1</td>\n",
       "    </tr>\n",
       "    <tr>\n",
       "      <th>6</th>\n",
       "      <td>0</td>\n",
       "      <td>0</td>\n",
       "      <td>0</td>\n",
       "      <td>1</td>\n",
       "      <td>0</td>\n",
       "      <td>0</td>\n",
       "    </tr>\n",
       "    <tr>\n",
       "      <th>7</th>\n",
       "      <td>1</td>\n",
       "      <td>0</td>\n",
       "      <td>0</td>\n",
       "      <td>0</td>\n",
       "      <td>0</td>\n",
       "      <td>0</td>\n",
       "    </tr>\n",
       "    <tr>\n",
       "      <th>8</th>\n",
       "      <td>0</td>\n",
       "      <td>0</td>\n",
       "      <td>0</td>\n",
       "      <td>1</td>\n",
       "      <td>0</td>\n",
       "      <td>0</td>\n",
       "    </tr>\n",
       "    <tr>\n",
       "      <th>9</th>\n",
       "      <td>0</td>\n",
       "      <td>1</td>\n",
       "      <td>0</td>\n",
       "      <td>0</td>\n",
       "      <td>0</td>\n",
       "      <td>0</td>\n",
       "    </tr>\n",
       "  </tbody>\n",
       "</table>\n",
       "</div>"
      ],
      "text/plain": [
       "   0  1  2  3  4  5\n",
       "0  1  0  0  0  0  0\n",
       "1  1  0  0  0  0  0\n",
       "2  0  0  0  1  0  0\n",
       "3  0  0  0  0  1  0\n",
       "4  0  0  1  0  0  0\n",
       "5  0  0  0  0  0  1\n",
       "6  0  0  0  1  0  0\n",
       "7  1  0  0  0  0  0\n",
       "8  0  0  0  1  0  0\n",
       "9  0  1  0  0  0  0"
      ]
     },
     "execution_count": 15,
     "metadata": {},
     "output_type": "execute_result"
    }
   ],
   "source": [
    "target_df.head(10)"
   ]
  },
  {
   "cell_type": "markdown",
   "metadata": {},
   "source": [
    "Lastly we need to drop the labels from the dataframe."
   ]
  },
  {
   "cell_type": "code",
   "execution_count": 16,
   "metadata": {
    "ExecuteTime": {
     "end_time": "2020-10-31T19:22:32.714257Z",
     "start_time": "2020-10-31T19:22:32.554850Z"
    }
   },
   "outputs": [
    {
     "data": {
      "text/html": [
       "<div>\n",
       "<style scoped>\n",
       "    .dataframe tbody tr th:only-of-type {\n",
       "        vertical-align: middle;\n",
       "    }\n",
       "\n",
       "    .dataframe tbody tr th {\n",
       "        vertical-align: top;\n",
       "    }\n",
       "\n",
       "    .dataframe thead th {\n",
       "        text-align: right;\n",
       "    }\n",
       "</style>\n",
       "<table border=\"1\" class=\"dataframe\">\n",
       "  <thead>\n",
       "    <tr style=\"text-align: right;\">\n",
       "      <th></th>\n",
       "      <th>Pressure_1</th>\n",
       "      <th>Pressure_2</th>\n",
       "      <th>input_state</th>\n",
       "      <th>feedback_state</th>\n",
       "    </tr>\n",
       "  </thead>\n",
       "  <tbody>\n",
       "    <tr>\n",
       "      <th>1322</th>\n",
       "      <td>0.872731</td>\n",
       "      <td>0.668364</td>\n",
       "      <td>1.0</td>\n",
       "      <td>1.0</td>\n",
       "    </tr>\n",
       "    <tr>\n",
       "      <th>344</th>\n",
       "      <td>0.822173</td>\n",
       "      <td>0.645789</td>\n",
       "      <td>1.0</td>\n",
       "      <td>1.0</td>\n",
       "    </tr>\n",
       "    <tr>\n",
       "      <th>7898</th>\n",
       "      <td>0.529029</td>\n",
       "      <td>0.979170</td>\n",
       "      <td>0.0</td>\n",
       "      <td>0.0</td>\n",
       "    </tr>\n",
       "    <tr>\n",
       "      <th>8819</th>\n",
       "      <td>0.830524</td>\n",
       "      <td>0.547233</td>\n",
       "      <td>0.0</td>\n",
       "      <td>1.0</td>\n",
       "    </tr>\n",
       "    <tr>\n",
       "      <th>5384</th>\n",
       "      <td>0.132070</td>\n",
       "      <td>0.649368</td>\n",
       "      <td>1.0</td>\n",
       "      <td>1.0</td>\n",
       "    </tr>\n",
       "  </tbody>\n",
       "</table>\n",
       "</div>"
      ],
      "text/plain": [
       "      Pressure_1  Pressure_2  input_state  feedback_state\n",
       "1322    0.872731    0.668364          1.0             1.0\n",
       "344     0.822173    0.645789          1.0             1.0\n",
       "7898    0.529029    0.979170          0.0             0.0\n",
       "8819    0.830524    0.547233          0.0             1.0\n",
       "5384    0.132070    0.649368          1.0             1.0"
      ]
     },
     "execution_count": 16,
     "metadata": {},
     "output_type": "execute_result"
    }
   ],
   "source": [
    "df = df.drop(['labels'],axis=1)\n",
    "df.head()"
   ]
  },
  {
   "cell_type": "code",
   "execution_count": 17,
   "metadata": {
    "ExecuteTime": {
     "end_time": "2020-10-31T19:22:32.863388Z",
     "start_time": "2020-10-31T19:22:32.716448Z"
    }
   },
   "outputs": [
    {
     "name": "stdout",
     "output_type": "stream",
     "text": [
      "Input Dataframe Shape: (12000, 4)\n",
      "Target Dataframe Shape: (12000, 6)\n"
     ]
    }
   ],
   "source": [
    "print('Input Dataframe Shape: {}'.format(df.shape))\n",
    "print('Target Dataframe Shape: {}'.format(target_df.shape))"
   ]
  },
  {
   "cell_type": "markdown",
   "metadata": {},
   "source": [
    "# Split Data into Train and Test\n",
    "\n",
    "Our input and label dataframes are ready to be split into training and validation data.\n",
    "To do this we'll use sklearn and the train_test_split function."
   ]
  },
  {
   "cell_type": "code",
   "execution_count": 18,
   "metadata": {
    "ExecuteTime": {
     "end_time": "2020-10-31T19:22:33.257491Z",
     "start_time": "2020-10-31T19:22:32.865020Z"
    }
   },
   "outputs": [],
   "source": [
    "from sklearn.model_selection import train_test_split\n",
    "\n",
    "# We need to pass numpy arrays which can easy be converted from dataframes\n",
    "\n",
    "X_train, X_test, y_train, y_test = train_test_split(df.to_numpy(), target_df.to_numpy(), test_size=0.3)"
   ]
  },
  {
   "cell_type": "code",
   "execution_count": 19,
   "metadata": {
    "ExecuteTime": {
     "end_time": "2020-10-31T19:22:33.270332Z",
     "start_time": "2020-10-31T19:22:33.261588Z"
    }
   },
   "outputs": [
    {
     "data": {
      "text/plain": [
       "((8400, 4), (3600, 4), (8400, 6), (3600, 6))"
      ]
     },
     "execution_count": 19,
     "metadata": {},
     "output_type": "execute_result"
    }
   ],
   "source": [
    "X_train.shape, X_test.shape, y_train.shape, y_test.shape"
   ]
  },
  {
   "cell_type": "markdown",
   "metadata": {},
   "source": [
    "# Generate the Model"
   ]
  },
  {
   "cell_type": "code",
   "execution_count": 20,
   "metadata": {
    "ExecuteTime": {
     "end_time": "2020-10-31T19:22:33.643540Z",
     "start_time": "2020-10-31T19:22:33.275621Z"
    }
   },
   "outputs": [],
   "source": [
    "model = tf.keras.models.Sequential([\n",
    "    tf.keras.layers.Dense(4,activation='relu',\n",
    "                          input_dim=4),\n",
    "    tf.keras.layers.Dense(16,activation='relu'),\n",
    "    tf.keras.layers.Dropout(.2),\n",
    "    tf.keras.layers.Dense(16,activation='relu'),\n",
    "    tf.keras.layers.Dense(6, activation='softmax')\n",
    "])"
   ]
  },
  {
   "cell_type": "code",
   "execution_count": 21,
   "metadata": {
    "ExecuteTime": {
     "end_time": "2020-10-31T19:22:33.654212Z",
     "start_time": "2020-10-31T19:22:33.645973Z"
    }
   },
   "outputs": [
    {
     "name": "stdout",
     "output_type": "stream",
     "text": [
      "Model: \"sequential\"\n",
      "_________________________________________________________________\n",
      "Layer (type)                 Output Shape              Param #   \n",
      "=================================================================\n",
      "dense (Dense)                (None, 4)                 20        \n",
      "_________________________________________________________________\n",
      "dense_1 (Dense)              (None, 16)                80        \n",
      "_________________________________________________________________\n",
      "dropout (Dropout)            (None, 16)                0         \n",
      "_________________________________________________________________\n",
      "dense_2 (Dense)              (None, 16)                272       \n",
      "_________________________________________________________________\n",
      "dense_3 (Dense)              (None, 6)                 102       \n",
      "=================================================================\n",
      "Total params: 474\n",
      "Trainable params: 474\n",
      "Non-trainable params: 0\n",
      "_________________________________________________________________\n"
     ]
    }
   ],
   "source": [
    "model.summary()"
   ]
  },
  {
   "cell_type": "code",
   "execution_count": 22,
   "metadata": {
    "ExecuteTime": {
     "end_time": "2020-10-31T19:22:33.812486Z",
     "start_time": "2020-10-31T19:22:33.657407Z"
    }
   },
   "outputs": [],
   "source": [
    "model.compile(loss='categorical_crossentropy',optimizer='rmsprop',\n",
    "             metrics=['accuracy'])"
   ]
  },
  {
   "cell_type": "code",
   "execution_count": 23,
   "metadata": {
    "ExecuteTime": {
     "end_time": "2020-10-31T19:22:38.552576Z",
     "start_time": "2020-10-31T19:22:33.832593Z"
    }
   },
   "outputs": [
    {
     "name": "stdout",
     "output_type": "stream",
     "text": [
      "Epoch 1/5\n",
      "840/840 - 1s - loss: 0.8587 - accuracy: 0.7000 - val_loss: 0.2337 - val_accuracy: 1.0000\n",
      "Epoch 2/5\n",
      "840/840 - 1s - loss: 0.2002 - accuracy: 0.9398 - val_loss: 0.0426 - val_accuracy: 1.0000\n",
      "Epoch 3/5\n",
      "840/840 - 1s - loss: 0.0846 - accuracy: 0.9780 - val_loss: 0.0070 - val_accuracy: 1.0000\n",
      "Epoch 4/5\n",
      "840/840 - 1s - loss: 0.0539 - accuracy: 0.9849 - val_loss: 0.0018 - val_accuracy: 1.0000\n",
      "Epoch 5/5\n",
      "840/840 - 1s - loss: 0.0467 - accuracy: 0.9848 - val_loss: 7.8485e-04 - val_accuracy: 1.0000\n"
     ]
    }
   ],
   "source": [
    "history = model.fit(x=X_train,y=y_train,\n",
    "                   batch_size=10,\n",
    "                   epochs=5,\n",
    "                   verbose=2,\n",
    "                   validation_data=(X_test,y_test))"
   ]
  },
  {
   "cell_type": "code",
   "execution_count": 24,
   "metadata": {
    "ExecuteTime": {
     "end_time": "2020-10-31T19:22:38.696629Z",
     "start_time": "2020-10-31T19:22:38.555364Z"
    }
   },
   "outputs": [
    {
     "name": "stdout",
     "output_type": "stream",
     "text": [
      "[9.9980193e-01 2.2627398e-11 1.8943759e-04 3.1410533e-15 8.7077733e-06\n",
      " 8.5780569e-13]\n"
     ]
    }
   ],
   "source": [
    "results = model.predict([[.6, .3, 1.0, 1.0]])\n",
    "results = results[0,:]\n",
    "print(results)"
   ]
  },
  {
   "cell_type": "code",
   "execution_count": 25,
   "metadata": {
    "ExecuteTime": {
     "end_time": "2020-10-31T19:22:39.359601Z",
     "start_time": "2020-10-31T19:22:38.699038Z"
    }
   },
   "outputs": [
    {
     "data": {
      "text/plain": [
       "([<matplotlib.axis.XTick at 0x7f2924cbcb90>,\n",
       "  <matplotlib.axis.XTick at 0x7f2924cbc690>,\n",
       "  <matplotlib.axis.XTick at 0x7f2924cbc350>,\n",
       "  <matplotlib.axis.XTick at 0x7f2924cdfc90>,\n",
       "  <matplotlib.axis.XTick at 0x7f2924c6c090>,\n",
       "  <matplotlib.axis.XTick at 0x7f2924c6c110>],\n",
       " [Text(0, 0, 'Normal Open'),\n",
       "  Text(1, 0, 'Normal Close'),\n",
       "  Text(2, 0, 'Rev Open'),\n",
       "  Text(3, 0, 'Rev Close'),\n",
       "  Text(4, 0, 'Stuck Open'),\n",
       "  Text(5, 0, 'Stuck Close')])"
      ]
     },
     "execution_count": 25,
     "metadata": {},
     "output_type": "execute_result"
    },
    {
     "data": {
      "image/png": "[encoded data removed]",
      "text/plain": [
       "<Figure size 432x288 with 1 Axes>"
      ]
     },
     "metadata": {},
     "output_type": "display_data"
    }
   ],
   "source": [
    "import matplotlib.pyplot as plt\n",
    "plt.style.use('ggplot')\n",
    "\n",
    "x = ['Normal, Open','Normal, Close','Reverse, Open','Reverse, Close','Stuck Open','Stuck Close']\n",
    "\n",
    "x_pos = [i for i,_ in enumerate(x)]\n",
    "\n",
    "plt.bar(x_pos,results,color='blue')\n",
    "plt.xlabel(\"Equipment States\")\n",
    "plt.ylabel(\"Probabilities\")\n",
    "\n",
    "plt.xticks(x_pos,x,rotation='vertical')"
   ]
  },
  {
   "cell_type": "markdown",
   "metadata": {},
   "source": [
    "# Adding K-fold Cross Validation"
   ]
  },
  {
   "cell_type": "code",
   "execution_count": 26,
   "metadata": {
    "ExecuteTime": {
     "end_time": "2020-10-31T19:23:32.085882Z",
     "start_time": "2020-10-31T19:22:39.361464Z"
    }
   },
   "outputs": [
    {
     "name": "stdout",
     "output_type": "stream",
     "text": [
      "-----------------------------------\n",
      "Training for fold 1 ...\n",
      "Epoch 1/5\n",
      "1080/1080 [==============================] - 1s 893us/step - loss: 0.6452 - accuracy: 0.7800\n",
      "Epoch 2/5\n",
      "1080/1080 [==============================] - 1s 1ms/step - loss: 0.0445 - accuracy: 0.9894\n",
      "Epoch 3/5\n",
      "1080/1080 [==============================] - 1s 792us/step - loss: 0.0200 - accuracy: 0.9945\n",
      "Epoch 4/5\n",
      "1080/1080 [==============================] - 1s 896us/step - loss: 0.0149 - accuracy: 0.9944\n",
      "Epoch 5/5\n",
      "1080/1080 [==============================] - 1s 793us/step - loss: 0.0108 - accuracy: 0.9962\n",
      "Score for fold 1: loss of 0.00026966282166540623; accuracy of 100.0%\n",
      "-----------------------------------\n",
      "Training for fold 2 ...\n",
      "Epoch 1/5\n",
      "1080/1080 [==============================] - 1s 725us/step - loss: 0.7990 - accuracy: 0.7384\n",
      "Epoch 2/5\n",
      "1080/1080 [==============================] - 1s 766us/step - loss: 0.1166 - accuracy: 0.9666\n",
      "Epoch 3/5\n",
      "1080/1080 [==============================] - 1s 759us/step - loss: 0.0443 - accuracy: 0.9876\n",
      "Epoch 4/5\n",
      "1080/1080 [==============================] - 1s 714us/step - loss: 0.0317 - accuracy: 0.9910\n",
      "Epoch 5/5\n",
      "1080/1080 [==============================] - 1s 761us/step - loss: 0.0228 - accuracy: 0.9942\n",
      "Score for fold 2: loss of 0.0007021224009804428; accuracy of 100.0%\n",
      "-----------------------------------\n",
      "Training for fold 3 ...\n",
      "Epoch 1/5\n",
      "1080/1080 [==============================] - 1s 792us/step - loss: 0.8196 - accuracy: 0.7582\n",
      "Epoch 2/5\n",
      "1080/1080 [==============================] - 1s 992us/step - loss: 0.1151 - accuracy: 0.9688\n",
      "Epoch 3/5\n",
      "1080/1080 [==============================] - 1s 1ms/step - loss: 0.0472 - accuracy: 0.9883\n",
      "Epoch 4/5\n",
      "1080/1080 [==============================] - 1s 913us/step - loss: 0.0340 - accuracy: 0.9904\n",
      "Epoch 5/5\n",
      "1080/1080 [==============================] - 1s 853us/step - loss: 0.0273 - accuracy: 0.9929\n",
      "Score for fold 3: loss of 0.0003818473778665066; accuracy of 100.0%\n",
      "-----------------------------------\n",
      "Training for fold 4 ...\n",
      "Epoch 1/5\n",
      "1080/1080 [==============================] - 1s 742us/step - loss: 0.6885 - accuracy: 0.7786\n",
      "Epoch 2/5\n",
      "1080/1080 [==============================] - 1s 853us/step - loss: 0.0762 - accuracy: 0.9779\n",
      "Epoch 3/5\n",
      "1080/1080 [==============================] - 1s 930us/step - loss: 0.0381 - accuracy: 0.9867\n",
      "Epoch 4/5\n",
      "1080/1080 [==============================] - 1s 894us/step - loss: 0.0318 - accuracy: 0.9882\n",
      "Epoch 5/5\n",
      "1080/1080 [==============================] - 1s 699us/step - loss: 0.0248 - accuracy: 0.9905\n",
      "Score for fold 4: loss of 8.858912769937888e-05; accuracy of 100.0%\n",
      "-----------------------------------\n",
      "Training for fold 5 ...\n",
      "Epoch 1/5\n",
      "1080/1080 [==============================] - 1s 717us/step - loss: 0.7070 - accuracy: 0.7610\n",
      "Epoch 2/5\n",
      "1080/1080 [==============================] - 1s 751us/step - loss: 0.0886 - accuracy: 0.9778\n",
      "Epoch 3/5\n",
      "1080/1080 [==============================] - 1s 777us/step - loss: 0.0322 - accuracy: 0.9916\n",
      "Epoch 4/5\n",
      "1080/1080 [==============================] - 1s 875us/step - loss: 0.0211 - accuracy: 0.9931\n",
      "Epoch 5/5\n",
      "1080/1080 [==============================] - 1s 937us/step - loss: 0.0159 - accuracy: 0.9944\n",
      "Score for fold 5: loss of 0.0002013433404499665; accuracy of 100.0%\n",
      "-----------------------------------\n",
      "Training for fold 6 ...\n",
      "Epoch 1/5\n",
      "1080/1080 [==============================] - 1s 1ms/step - loss: 0.7821 - accuracy: 0.7434: 0s - loss: 1.1\n",
      "Epoch 2/5\n",
      "1080/1080 [==============================] - 1s 994us/step - loss: 0.0846 - accuracy: 0.9799\n",
      "Epoch 3/5\n",
      "1080/1080 [==============================] - 1s 867us/step - loss: 0.0327 - accuracy: 0.9907\n",
      "Epoch 4/5\n",
      "1080/1080 [==============================] - 1s 1ms/step - loss: 0.0223 - accuracy: 0.9928\n",
      "Epoch 5/5\n",
      "1080/1080 [==============================] - 1s 1ms/step - loss: 0.0160 - accuracy: 0.9957\n",
      "Score for fold 6: loss of 0.00015003579028416425; accuracy of 100.0%\n",
      "-----------------------------------\n",
      "Training for fold 7 ...\n",
      "Epoch 1/5\n",
      "1080/1080 [==============================] - 1s 998us/step - loss: 0.8612 - accuracy: 0.7234\n",
      "Epoch 2/5\n",
      "1080/1080 [==============================] - 1s 876us/step - loss: 0.1157 - accuracy: 0.9785\n",
      "Epoch 3/5\n",
      "1080/1080 [==============================] - 1s 856us/step - loss: 0.0450 - accuracy: 0.9891\n",
      "Epoch 4/5\n",
      "1080/1080 [==============================] - 1s 920us/step - loss: 0.0265 - accuracy: 0.9932\n",
      "Epoch 5/5\n",
      "1080/1080 [==============================] - 1s 931us/step - loss: 0.0233 - accuracy: 0.9937\n",
      "Score for fold 7: loss of 0.00046886681229807436; accuracy of 100.0%\n",
      "-----------------------------------\n",
      "Training for fold 8 ...\n",
      "Epoch 1/5\n",
      "1080/1080 [==============================] - 1s 655us/step - loss: 0.8153 - accuracy: 0.7083\n",
      "Epoch 2/5\n",
      "1080/1080 [==============================] - 1s 677us/step - loss: 0.2249 - accuracy: 0.9146\n",
      "Epoch 3/5\n",
      "1080/1080 [==============================] - 1s 684us/step - loss: 0.0916 - accuracy: 0.9744\n",
      "Epoch 4/5\n",
      "1080/1080 [==============================] - 1s 680us/step - loss: 0.0455 - accuracy: 0.9859\n",
      "Epoch 5/5\n",
      "1080/1080 [==============================] - 1s 671us/step - loss: 0.0303 - accuracy: 0.9909\n",
      "Score for fold 8: loss of 0.0010488963453099132; accuracy of 100.0%\n",
      "-----------------------------------\n",
      "Training for fold 9 ...\n",
      "Epoch 1/5\n",
      "1080/1080 [==============================] - 1s 957us/step - loss: 0.7071 - accuracy: 0.7568\n",
      "Epoch 2/5\n",
      "1080/1080 [==============================] - 1s 935us/step - loss: 0.0728 - accuracy: 0.9830\n",
      "Epoch 3/5\n",
      "1080/1080 [==============================] - 1s 850us/step - loss: 0.0237 - accuracy: 0.9940\n",
      "Epoch 4/5\n",
      "1080/1080 [==============================] - 1s 654us/step - loss: 0.0150 - accuracy: 0.9951\n",
      "Epoch 5/5\n",
      "1080/1080 [==============================] - 1s 648us/step - loss: 0.0144 - accuracy: 0.9947\n",
      "Score for fold 9: loss of 2.8276152079342864e-05; accuracy of 100.0%\n",
      "-----------------------------------\n",
      "Training for fold 10 ...\n",
      "Epoch 1/5\n",
      "1080/1080 [==============================] - 1s 715us/step - loss: 0.7914 - accuracy: 0.7435\n",
      "Epoch 2/5\n",
      "1080/1080 [==============================] - 1s 1ms/step - loss: 0.0710 - accuracy: 0.9843\n",
      "Epoch 3/5\n",
      "1080/1080 [==============================] - 1s 904us/step - loss: 0.0318 - accuracy: 0.99240s - loss: 0.0337 - accu\n",
      "Epoch 4/5\n",
      "1080/1080 [==============================] - 1s 760us/step - loss: 0.0182 - accuracy: 0.99510s - loss: 0.019\n",
      "Epoch 5/5\n",
      "1080/1080 [==============================] - 1s 737us/step - loss: 0.0157 - accuracy: 0.9952\n",
      "Score for fold 10: loss of 0.00022447285300586373; accuracy of 100.0%\n"
     ]
    }
   ],
   "source": [
    "from sklearn.model_selection import KFold\n",
    "import numpy as np\n",
    "\n",
    "num_folds = 10\n",
    "\n",
    "# Define fold score containers\n",
    "acc_per_fold = []\n",
    "loss_per_fold = []\n",
    "\n",
    "kfold = KFold(n_splits=num_folds)\n",
    "\n",
    "fold_no = 1\n",
    "for train,test in kfold.split(df.to_numpy(),target_df.to_numpy()):\n",
    "    model = tf.keras.models.Sequential([\n",
    "    tf.keras.layers.Dense(4,activation='relu',\n",
    "                          input_dim=4),\n",
    "    tf.keras.layers.Dense(16,activation='relu'),\n",
    "    tf.keras.layers.Dropout(.2),\n",
    "    tf.keras.layers.Dense(16,activation='relu'),\n",
    "    tf.keras.layers.Dense(6, activation='softmax')\n",
    "    ])\n",
    "    \n",
    "    model.compile(loss='categorical_crossentropy',optimizer='rmsprop',\n",
    "             metrics=['accuracy'])\n",
    "    \n",
    "    print('-----------------------------------')\n",
    "    print(f'Training for fold {fold_no} ...')\n",
    "    \n",
    "    # Fit model\n",
    "    history = model.fit(df.to_numpy()[train],target_df.to_numpy()[train],\n",
    "                   batch_size=10,\n",
    "                   epochs=5,\n",
    "                   verbose=1)\n",
    "    \n",
    "    # Generate metrics\n",
    "    scores = model.evaluate(df.to_numpy()[test],target_df.to_numpy()[test],verbose=0)\n",
    "    print(f'Score for fold {fold_no}: {model.metrics_names[0]} of {scores[0]}; {model.metrics_names[1]} of {scores[1]*100}%')\n",
    "    acc_per_fold.append(scores[1] * 100)\n",
    "    loss_per_fold.append(scores[0])\n",
    "\n",
    "    # Increase fold number\n",
    "    fold_no = fold_no + 1\n",
    "    "
   ]
  },
  {
   "cell_type": "code",
   "execution_count": 27,
   "metadata": {
    "ExecuteTime": {
     "end_time": "2020-10-31T19:23:32.097142Z",
     "start_time": "2020-10-31T19:23:32.087824Z"
    }
   },
   "outputs": [
    {
     "name": "stdout",
     "output_type": "stream",
     "text": [
      "------------------------------------------------------------------------\n",
      "Score per fold\n",
      "------------------------------------------------------------------------\n",
      "> Fold 1 - Loss: 0.00026966282166540623 - Accuracy: 100.0%\n",
      "------------------------------------------------------------------------\n",
      "> Fold 2 - Loss: 0.0007021224009804428 - Accuracy: 100.0%\n",
      "------------------------------------------------------------------------\n",
      "> Fold 3 - Loss: 0.0003818473778665066 - Accuracy: 100.0%\n",
      "------------------------------------------------------------------------\n",
      "> Fold 4 - Loss: 8.858912769937888e-05 - Accuracy: 100.0%\n",
      "------------------------------------------------------------------------\n",
      "> Fold 5 - Loss: 0.0002013433404499665 - Accuracy: 100.0%\n",
      "------------------------------------------------------------------------\n",
      "> Fold 6 - Loss: 0.00015003579028416425 - Accuracy: 100.0%\n",
      "------------------------------------------------------------------------\n",
      "> Fold 7 - Loss: 0.00046886681229807436 - Accuracy: 100.0%\n",
      "------------------------------------------------------------------------\n",
      "> Fold 8 - Loss: 0.0010488963453099132 - Accuracy: 100.0%\n",
      "------------------------------------------------------------------------\n",
      "> Fold 9 - Loss: 2.8276152079342864e-05 - Accuracy: 100.0%\n",
      "------------------------------------------------------------------------\n",
      "> Fold 10 - Loss: 0.00022447285300586373 - Accuracy: 100.0%\n",
      "------------------------------------------------------------------------\n",
      "Average scores for all folds:\n",
      "> Accuracy: 100.0 (+- 0.0)\n",
      "> Loss: 0.00035641130216390593\n",
      "------------------------------------------------------------------------\n"
     ]
    }
   ],
   "source": [
    "# == Provide average scores ==\n",
    "print('------------------------------------------------------------------------')\n",
    "print('Score per fold')\n",
    "for i in range(0, len(acc_per_fold)):\n",
    "  print('------------------------------------------------------------------------')\n",
    "  print(f'> Fold {i+1} - Loss: {loss_per_fold[i]} - Accuracy: {acc_per_fold[i]}%')\n",
    "print('------------------------------------------------------------------------')\n",
    "print('Average scores for all folds:')\n",
    "print(f'> Accuracy: {np.mean(acc_per_fold)} (+- {np.std(acc_per_fold)})')\n",
    "print(f'> Loss: {np.mean(loss_per_fold)}')\n",
    "print('------------------------------------------------------------------------')"
   ]
  },
  {
   "cell_type": "code",
   "execution_count": null,
   "metadata": {},
   "outputs": [],
   "source": []
  }
 ],
 "metadata": {
  "hide_input": false,
  "kernelspec": {
   "display_name": "mechClass",
   "language": "python",
   "name": "mechclass"
  },
  "language_info": {
   "codemirror_mode": {
    "name": "ipython",
    "version": 3
   },
   "file_extension": ".py",
   "mimetype": "text/x-python",
   "name": "python",
   "nbconvert_exporter": "python",
   "pygments_lexer": "ipython3",
   "version": "3.7.7"
  },
  "toc": {
   "base_numbering": 1,
   "nav_menu": {},
   "number_sections": true,
   "sideBar": true,
   "skip_h1_title": false,
   "title_cell": "Table of Contents",
   "title_sidebar": "Contents",
   "toc_cell": false,
   "toc_position": {},
   "toc_section_display": true,
   "toc_window_display": false
  },
  "varInspector": {
   "cols": {
    "lenName": 16,
    "lenType": 16,
    "lenVar": 40
   },
   "kernels_config": {
    "python": {
     "delete_cmd_postfix": "",
     "delete_cmd_prefix": "del ",
     "library": "var_list.py",
     "varRefreshCmd": "print(var_dic_list())"
    },
    "r": {
     "delete_cmd_postfix": ") ",
     "delete_cmd_prefix": "rm(",
     "library": "var_list.r",
     "varRefreshCmd": "cat(var_dic_list()) "
    }
   },
   "types_to_exclude": [
    "module",
    "function",
    "builtin_function_or_method",
    "instance",
    "_Feature"
   ],
   "window_display": false
  }
 },
 "nbformat": 4,
 "nbformat_minor": 4
}
